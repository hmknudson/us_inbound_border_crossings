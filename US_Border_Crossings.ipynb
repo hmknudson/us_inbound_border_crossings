{
 "cells": [
  {
   "cell_type": "markdown",
   "metadata": {
    "colab_type": "text",
    "id": "tlKoog5dXOGt"
   },
   "source": [
    "#1. Introduction\n",
    "\n",
    "This dataset comes from [Kaggle](https://www.kaggle.com/akhilv11/border-crossing-entry-data), but the data was originally collected by the United States Bureau of Transportation Statistics. The data provide information on the number of inbound US border crossings in each type of conveyance (i.e., truck, train, pedestrian, etc.), for all 116 ports of entry in US states that share a border with either Mexico or Canada. Data for all 4 states that border Mexico and 11 of the 13 states that border Canada are included in the dataset, which covers all years from 1996 to 2019.\n",
    "\n",
    "Border crossing in the US is an incendiary topic in current politics, as various actors claim that border crossing has increased in recent years, while others claim the opposite. Notably, the current US President, Donald Trump, campaigned on the promise to construct a [wall](https://www.nytimes.com/2019/09/18/us/politics/trump-border-wall.html) at the US-Mexico border to keep Mexicans and Central Americans from entering the country illegally. He has also [insulted](https://time.com/4473972/donald-trump-&/) Mexican-American immigrants, Mexicans, and the country of Mexico numerous times throughout his campaign and subsequent presidency. \n",
    "\n",
    "Moreover, the large amount of shootings that have been occurring in the US prompted Venezuela and Uruguay to issue travel [advisories](https://www.cnn.com/2019/08/06/americas/venezuela-uruguay-travel-warnings-us/index.html), warning their citizens to avoid traveling to the US, if possible.\n",
    "\n",
    "Considering President Trump’s rhetoric and the existence of concerns about traveling to the US, it would be interesting to examine the inbound US border crossing data from several years before President Trump took office, compared to the present day, in order to see what trends there may be.\n"
   ]
  },
  {
   "cell_type": "markdown",
   "metadata": {
    "colab_type": "text",
    "id": "Nw8b75BQadPS"
   },
   "source": [
    "#2. Research Question & Hypotheses\n",
    "\n",
    "***Research Question***\n",
    "\n",
    "Is there a significant difference in inbound US border crossings between 2012 (the year President Obama was re-elected)  and 2018 (about half of the way through President Trump’s time in office)?\n",
    "\n",
    "***Hypotheses***\n",
    "\n",
    "**Hypothesis 1:**\n",
    "\n",
    "Ho: There is no significant difference in overall inbound US border crossings from 2012 to 2018.\n",
    "\n",
    "Ha: There is a significant difference in overall inbound US border crossings from 2012 to 2018.\n",
    "\n",
    "**Hypothesis 2:**\n",
    "\n",
    "Ho: There is no significant difference in inbound US-Mexico border crossings between 2012 and 2018.\n",
    "\n",
    "Ha: There is a significant difference in inbound US-Mexico border crossings from 2012 to 2018.\n",
    "\n",
    "**Hypothesis 3:**\n",
    "\n",
    "Ho: There is no significant difference in inbound US-Canada border crossings from 2012 to 2018.\n",
    "\n",
    "Ha: There is a significant difference in inbound US-Canada border crossings from 2012 to 2018.\n",
    "\n",
    "**Hypothesis 4:**\n",
    "\n",
    "Ho: There is no significant difference in inbound US border crossings between the US-Mexico and US-Canada borders.\n",
    "\n",
    "Ha: There is a significant difference in inbound US border crossings between the US-Mexico and US-Canada borders."
   ]
  },
  {
   "cell_type": "markdown",
   "metadata": {
    "colab_type": "text",
    "id": "MtJ1Btq1bZKB"
   },
   "source": [
    "#3. Data\n",
    "\n",
    "The dataset is a CSV file downloaded from Kaggle and contains a total of 346,733 observations and 8 columns. There are no null values. 116 unique ports of entry are represented, with 80,546 records from the US-Mexico border and 266,187 records from the US-Canada border."
   ]
  },
  {
   "cell_type": "code",
   "execution_count": 1,
   "metadata": {
    "colab": {
     "base_uri": "https://localhost:8080/",
     "height": 326
    },
    "colab_type": "code",
    "id": "ypJk1RAyVrRA",
    "outputId": "a14e0c2c-3e1a-4b9e-c64e-fe40c0355a67"
   },
   "outputs": [
    {
     "name": "stdout",
     "output_type": "stream",
     "text": [
      "Collecting scikit_posthocs\n",
      "  Downloading scikit_posthocs-0.6.4-py3-none-any.whl (26 kB)\n",
      "Requirement already satisfied: scipy in /opt/anaconda3/lib/python3.7/site-packages (from scikit_posthocs) (1.3.1)\n",
      "Requirement already satisfied: seaborn in /opt/anaconda3/lib/python3.7/site-packages (from scikit_posthocs) (0.9.0)\n",
      "Requirement already satisfied: matplotlib in /opt/anaconda3/lib/python3.7/site-packages (from scikit_posthocs) (3.1.1)\n",
      "Requirement already satisfied: pandas>=0.20.0 in /opt/anaconda3/lib/python3.7/site-packages (from scikit_posthocs) (0.25.1)\n",
      "Requirement already satisfied: statsmodels in /opt/anaconda3/lib/python3.7/site-packages (from scikit_posthocs) (0.10.1)\n",
      "Requirement already satisfied: numpy in /opt/anaconda3/lib/python3.7/site-packages (from scikit_posthocs) (1.17.2)\n",
      "Requirement already satisfied: cycler>=0.10 in /opt/anaconda3/lib/python3.7/site-packages (from matplotlib->scikit_posthocs) (0.10.0)\n",
      "Requirement already satisfied: kiwisolver>=1.0.1 in /opt/anaconda3/lib/python3.7/site-packages (from matplotlib->scikit_posthocs) (1.1.0)\n",
      "Requirement already satisfied: pyparsing!=2.0.4,!=2.1.2,!=2.1.6,>=2.0.1 in /opt/anaconda3/lib/python3.7/site-packages (from matplotlib->scikit_posthocs) (2.4.2)\n",
      "Requirement already satisfied: python-dateutil>=2.1 in /opt/anaconda3/lib/python3.7/site-packages (from matplotlib->scikit_posthocs) (2.8.0)\n",
      "Requirement already satisfied: pytz>=2017.2 in /opt/anaconda3/lib/python3.7/site-packages (from pandas>=0.20.0->scikit_posthocs) (2019.3)\n",
      "Requirement already satisfied: patsy>=0.4.0 in /opt/anaconda3/lib/python3.7/site-packages (from statsmodels->scikit_posthocs) (0.5.1)\n",
      "Requirement already satisfied: six in /opt/anaconda3/lib/python3.7/site-packages (from cycler>=0.10->matplotlib->scikit_posthocs) (1.12.0)\n",
      "Requirement already satisfied: setuptools in /opt/anaconda3/lib/python3.7/site-packages (from kiwisolver>=1.0.1->matplotlib->scikit_posthocs) (41.4.0)\n",
      "Installing collected packages: scikit-posthocs\n",
      "Successfully installed scikit-posthocs-0.6.4\n",
      "Collecting us\n",
      "  Downloading us-1.0.0.tar.gz (13 kB)\n",
      "Collecting jellyfish==0.5.6\n",
      "  Downloading jellyfish-0.5.6.tar.gz (132 kB)\n",
      "\u001b[K     |████████████████████████████████| 132 kB 4.3 MB/s eta 0:00:01\n",
      "\u001b[?25hBuilding wheels for collected packages: us, jellyfish\n",
      "  Building wheel for us (setup.py) ... \u001b[?25ldone\n",
      "\u001b[?25h  Created wheel for us: filename=us-1.0.0-py3-none-any.whl size=11833 sha256=7f75e735fb05777d163431d778849bcf0dea4c9af16824b58398960b5cf34df0\n",
      "  Stored in directory: /Users/Heather/Library/Caches/pip/wheels/bd/9d/79/693961c74f34b952e545efbf3399533619c0874440a86ca466\n",
      "  Building wheel for jellyfish (setup.py) ... \u001b[?25ldone\n",
      "\u001b[?25h  Created wheel for jellyfish: filename=jellyfish-0.5.6-cp37-cp37m-macosx_10_9_x86_64.whl size=22561 sha256=4cb4214e6fa8a11f06deb81db416893f58eaf76cc55843ba39b6e8a36a00a2e9\n",
      "  Stored in directory: /Users/Heather/Library/Caches/pip/wheels/a2/e1/cf/61dcdba1d8dfafe32a1befc0525f388d681612a72cccd353eb\n",
      "Successfully built us jellyfish\n",
      "Installing collected packages: jellyfish, us\n",
      "Successfully installed jellyfish-0.5.6 us-1.0.0\n"
     ]
    }
   ],
   "source": [
    "import pandas as pd\n",
    "import numpy as np\n",
    "import math\n",
    "import io\n",
    "import seaborn as sns\n",
    "from matplotlib import pyplot as plt\n",
    "from scipy import stats\n",
    "!pip install scikit_posthocs\n",
    "import scikit_posthocs as sp\n",
    "!pip install us\n",
    "import us\n",
    "from scipy.stats import norm"
   ]
  },
  {
   "cell_type": "code",
   "execution_count": 3,
   "metadata": {},
   "outputs": [],
   "source": [
    "with open('./Border_Crossing_Entry_Data.csv') as f:\n",
    "    crossings = pd.read_csv(f)"
   ]
  },
  {
   "cell_type": "code",
   "execution_count": 4,
   "metadata": {
    "colab": {
     "base_uri": "https://localhost:8080/",
     "height": 612
    },
    "colab_type": "code",
    "id": "8iN7cInKV1AN",
    "outputId": "5bf8ecae-0520-4a9d-f4cf-362723022e61"
   },
   "outputs": [
    {
     "name": "stdout",
     "output_type": "stream",
     "text": [
      "<class 'pandas.core.frame.DataFrame'>\n",
      "RangeIndex: 346733 entries, 0 to 346732\n",
      "Data columns (total 8 columns):\n",
      "Port Name    346733 non-null object\n",
      "State        346733 non-null object\n",
      "Port Code    346733 non-null int64\n",
      "Border       346733 non-null object\n",
      "Date         346733 non-null object\n",
      "Measure      346733 non-null object\n",
      "Value        346733 non-null int64\n",
      "Location     346733 non-null object\n",
      "dtypes: int64(2), object(6)\n",
      "memory usage: 21.2+ MB\n"
     ]
    },
    {
     "data": {
      "text/html": [
       "<div>\n",
       "<style scoped>\n",
       "    .dataframe tbody tr th:only-of-type {\n",
       "        vertical-align: middle;\n",
       "    }\n",
       "\n",
       "    .dataframe tbody tr th {\n",
       "        vertical-align: top;\n",
       "    }\n",
       "\n",
       "    .dataframe thead th {\n",
       "        text-align: right;\n",
       "    }\n",
       "</style>\n",
       "<table border=\"1\" class=\"dataframe\">\n",
       "  <thead>\n",
       "    <tr style=\"text-align: right;\">\n",
       "      <th></th>\n",
       "      <th>Port Name</th>\n",
       "      <th>State</th>\n",
       "      <th>Port Code</th>\n",
       "      <th>Border</th>\n",
       "      <th>Date</th>\n",
       "      <th>Measure</th>\n",
       "      <th>Value</th>\n",
       "      <th>Location</th>\n",
       "    </tr>\n",
       "  </thead>\n",
       "  <tbody>\n",
       "    <tr>\n",
       "      <td>0</td>\n",
       "      <td>Calexico East</td>\n",
       "      <td>California</td>\n",
       "      <td>2507</td>\n",
       "      <td>US-Mexico Border</td>\n",
       "      <td>03/01/2019 12:00:00 AM</td>\n",
       "      <td>Trucks</td>\n",
       "      <td>34447</td>\n",
       "      <td>POINT (-115.48433000000001 32.67524)</td>\n",
       "    </tr>\n",
       "    <tr>\n",
       "      <td>1</td>\n",
       "      <td>Van Buren</td>\n",
       "      <td>Maine</td>\n",
       "      <td>108</td>\n",
       "      <td>US-Canada Border</td>\n",
       "      <td>03/01/2019 12:00:00 AM</td>\n",
       "      <td>Rail Containers Full</td>\n",
       "      <td>428</td>\n",
       "      <td>POINT (-67.94271 47.16207)</td>\n",
       "    </tr>\n",
       "    <tr>\n",
       "      <td>2</td>\n",
       "      <td>Otay Mesa</td>\n",
       "      <td>California</td>\n",
       "      <td>2506</td>\n",
       "      <td>US-Mexico Border</td>\n",
       "      <td>03/01/2019 12:00:00 AM</td>\n",
       "      <td>Trucks</td>\n",
       "      <td>81217</td>\n",
       "      <td>POINT (-117.05333 32.57333)</td>\n",
       "    </tr>\n",
       "    <tr>\n",
       "      <td>3</td>\n",
       "      <td>Nogales</td>\n",
       "      <td>Arizona</td>\n",
       "      <td>2604</td>\n",
       "      <td>US-Mexico Border</td>\n",
       "      <td>03/01/2019 12:00:00 AM</td>\n",
       "      <td>Trains</td>\n",
       "      <td>62</td>\n",
       "      <td>POINT (-110.93361 31.340279999999996)</td>\n",
       "    </tr>\n",
       "    <tr>\n",
       "      <td>4</td>\n",
       "      <td>Trout River</td>\n",
       "      <td>New York</td>\n",
       "      <td>715</td>\n",
       "      <td>US-Canada Border</td>\n",
       "      <td>03/01/2019 12:00:00 AM</td>\n",
       "      <td>Personal Vehicle Passengers</td>\n",
       "      <td>16377</td>\n",
       "      <td>POINT (-73.44253 44.990010000000005)</td>\n",
       "    </tr>\n",
       "  </tbody>\n",
       "</table>\n",
       "</div>"
      ],
      "text/plain": [
       "       Port Name       State  Port Code            Border  \\\n",
       "0  Calexico East  California       2507  US-Mexico Border   \n",
       "1      Van Buren       Maine        108  US-Canada Border   \n",
       "2      Otay Mesa  California       2506  US-Mexico Border   \n",
       "3        Nogales     Arizona       2604  US-Mexico Border   \n",
       "4    Trout River    New York        715  US-Canada Border   \n",
       "\n",
       "                     Date                      Measure  Value  \\\n",
       "0  03/01/2019 12:00:00 AM                       Trucks  34447   \n",
       "1  03/01/2019 12:00:00 AM         Rail Containers Full    428   \n",
       "2  03/01/2019 12:00:00 AM                       Trucks  81217   \n",
       "3  03/01/2019 12:00:00 AM                       Trains     62   \n",
       "4  03/01/2019 12:00:00 AM  Personal Vehicle Passengers  16377   \n",
       "\n",
       "                                Location  \n",
       "0   POINT (-115.48433000000001 32.67524)  \n",
       "1             POINT (-67.94271 47.16207)  \n",
       "2            POINT (-117.05333 32.57333)  \n",
       "3  POINT (-110.93361 31.340279999999996)  \n",
       "4   POINT (-73.44253 44.990010000000005)  "
      ]
     },
     "execution_count": 4,
     "metadata": {},
     "output_type": "execute_result"
    }
   ],
   "source": [
    "crossings.info()\n",
    "crossings.head()"
   ]
  },
  {
   "cell_type": "code",
   "execution_count": 74,
   "metadata": {
    "colab": {
     "base_uri": "https://localhost:8080/",
     "height": 68
    },
    "colab_type": "code",
    "id": "qp_njnZC25I1",
    "outputId": "777bb4af-b8a6-4750-93ad-b34d97b8419f"
   },
   "outputs": [
    {
     "data": {
      "text/plain": [
       "US-Canada Border    266187\n",
       "US-Mexico Border     80546\n",
       "Name: border, dtype: int64"
      ]
     },
     "execution_count": 74,
     "metadata": {
      "tags": []
     },
     "output_type": "execute_result"
    }
   ],
   "source": [
    "crossings.columns = crossings.columns.str.lower()\n",
    "crossings['border'].value_counts()    #Here's how many records there are for each border."
   ]
  },
  {
   "cell_type": "code",
   "execution_count": 75,
   "metadata": {
    "colab": {
     "base_uri": "https://localhost:8080/",
     "height": 306
    },
    "colab_type": "code",
    "id": "TAjuYDlq3BK4",
    "outputId": "b3ae4a18-0cad-4781-ec57-9a36d3644072"
   },
   "outputs": [
    {
     "name": "stdout",
     "output_type": "stream",
     "text": [
      "116\n",
      "North Dakota    57071\n",
      "Washington      44677\n",
      "Montana         38154\n",
      "Maine           38136\n",
      "Texas           35754\n",
      "Minnesota       23135\n",
      "New York        20697\n",
      "Arizona         19252\n",
      "California      19102\n",
      "Vermont         16247\n",
      "Alaska          11529\n",
      "Michigan         9985\n",
      "Idaho            6551\n",
      "New Mexico       6438\n",
      "Ohio                5\n",
      "Name: state, dtype: int64\n"
     ]
    }
   ],
   "source": [
    "print(crossings['port name'].nunique())   #There are 116 ports\n",
    "print(crossings['state'].value_counts())"
   ]
  },
  {
   "cell_type": "code",
   "execution_count": 76,
   "metadata": {
    "colab": {
     "base_uri": "https://localhost:8080/",
     "height": 51
    },
    "colab_type": "code",
    "id": "tQFxo-i767nS",
    "outputId": "bfa09eba-ba0a-48b1-ff69-fdc068b63ad4"
   },
   "outputs": [
    {
     "name": "stdout",
     "output_type": "stream",
     "text": [
      "[2019 2018 2017 2016 2015 2014 2013 2012 2011 2010 2009 2008 2007 2006\n",
      " 2005 2004 2003 2002 2001 2000 1999 1998 1997 1996]\n"
     ]
    }
   ],
   "source": [
    "#I need to make a new column - 'year' - that holds just the year value from each date\n",
    "crossings['year'] = pd.DatetimeIndex(crossings['date']).year\n",
    "print(crossings.year.unique())"
   ]
  },
  {
   "cell_type": "code",
   "execution_count": 77,
   "metadata": {
    "colab": {
     "base_uri": "https://localhost:8080/",
     "height": 34
    },
    "colab_type": "code",
    "id": "jJNfOwEf7kLU",
    "outputId": "fa361076-6752-47d1-d0d9-b88e24ea5768"
   },
   "outputs": [
    {
     "name": "stdout",
     "output_type": "stream",
     "text": [
      "[ 3  2  1 12 11 10  9  8  7  6  5  4]\n"
     ]
    }
   ],
   "source": [
    "#I also want to do the same for month\n",
    "crossings['month'] = pd.DatetimeIndex(crossings['date']).month\n",
    "print(crossings.month.unique())"
   ]
  },
  {
   "cell_type": "code",
   "execution_count": 0,
   "metadata": {
    "colab": {},
    "colab_type": "code",
    "id": "7Ym_JubRarjn"
   },
   "outputs": [],
   "source": [
    "#I'm adding a column with state abbreviations too, because that will look better in visualizations:\n",
    "for index, row in crossings.iterrows():\n",
    "  state_info = us.states.lookup(row['state'])\n",
    "  state_abbr = state_info.abbr\n",
    "  crossings.at[index, 'state_abbr'] = state_abbr"
   ]
  },
  {
   "cell_type": "code",
   "execution_count": 79,
   "metadata": {
    "colab": {
     "base_uri": "https://localhost:8080/",
     "height": 411
    },
    "colab_type": "code",
    "id": "QMpmzg3Jixgr",
    "outputId": "1b725a6c-f9fe-49bc-a9bf-a96bd8fd1523"
   },
   "outputs": [
    {
     "data": {
      "text/html": [
       "<div>\n",
       "<style scoped>\n",
       "    .dataframe tbody tr th:only-of-type {\n",
       "        vertical-align: middle;\n",
       "    }\n",
       "\n",
       "    .dataframe tbody tr th {\n",
       "        vertical-align: top;\n",
       "    }\n",
       "\n",
       "    .dataframe thead th {\n",
       "        text-align: right;\n",
       "    }\n",
       "</style>\n",
       "<table border=\"1\" class=\"dataframe\">\n",
       "  <thead>\n",
       "    <tr style=\"text-align: right;\">\n",
       "      <th></th>\n",
       "      <th>port name</th>\n",
       "      <th>state</th>\n",
       "      <th>port code</th>\n",
       "      <th>border</th>\n",
       "      <th>date</th>\n",
       "      <th>measure</th>\n",
       "      <th>value</th>\n",
       "      <th>location</th>\n",
       "      <th>year</th>\n",
       "      <th>month</th>\n",
       "      <th>state_abbr</th>\n",
       "    </tr>\n",
       "  </thead>\n",
       "  <tbody>\n",
       "    <tr>\n",
       "      <th>346728</th>\n",
       "      <td>Norton</td>\n",
       "      <td>Vermont</td>\n",
       "      <td>211</td>\n",
       "      <td>US-Canada Border</td>\n",
       "      <td>01/01/1996 12:00:00 AM</td>\n",
       "      <td>Personal Vehicle Passengers</td>\n",
       "      <td>9119</td>\n",
       "      <td>POINT (-71.79 45.01)</td>\n",
       "      <td>1996</td>\n",
       "      <td>1</td>\n",
       "      <td>VT</td>\n",
       "    </tr>\n",
       "    <tr>\n",
       "      <th>346729</th>\n",
       "      <td>Columbus</td>\n",
       "      <td>New Mexico</td>\n",
       "      <td>2406</td>\n",
       "      <td>US-Mexico Border</td>\n",
       "      <td>01/01/1996 12:00:00 AM</td>\n",
       "      <td>Personal Vehicles</td>\n",
       "      <td>29486</td>\n",
       "      <td>POINT (-107.63 31.78)</td>\n",
       "      <td>1996</td>\n",
       "      <td>1</td>\n",
       "      <td>NM</td>\n",
       "    </tr>\n",
       "    <tr>\n",
       "      <th>346730</th>\n",
       "      <td>Hansboro</td>\n",
       "      <td>North Dakota</td>\n",
       "      <td>3415</td>\n",
       "      <td>US-Canada Border</td>\n",
       "      <td>01/01/1996 12:00:00 AM</td>\n",
       "      <td>Rail Containers Full</td>\n",
       "      <td>0</td>\n",
       "      <td>POINT (-99.35 49)</td>\n",
       "      <td>1996</td>\n",
       "      <td>1</td>\n",
       "      <td>ND</td>\n",
       "    </tr>\n",
       "    <tr>\n",
       "      <th>346731</th>\n",
       "      <td>Calexico East</td>\n",
       "      <td>California</td>\n",
       "      <td>2507</td>\n",
       "      <td>US-Mexico Border</td>\n",
       "      <td>01/01/1996 12:00:00 AM</td>\n",
       "      <td>Buses</td>\n",
       "      <td>0</td>\n",
       "      <td>POINT (-115.39 32.67)</td>\n",
       "      <td>1996</td>\n",
       "      <td>1</td>\n",
       "      <td>CA</td>\n",
       "    </tr>\n",
       "    <tr>\n",
       "      <th>346732</th>\n",
       "      <td>Presidio</td>\n",
       "      <td>Texas</td>\n",
       "      <td>2403</td>\n",
       "      <td>US-Mexico Border</td>\n",
       "      <td>01/01/1996 12:00:00 AM</td>\n",
       "      <td>Trucks</td>\n",
       "      <td>347</td>\n",
       "      <td>POINT (-104.39000000000001 29.56)</td>\n",
       "      <td>1996</td>\n",
       "      <td>1</td>\n",
       "      <td>TX</td>\n",
       "    </tr>\n",
       "  </tbody>\n",
       "</table>\n",
       "</div>"
      ],
      "text/plain": [
       "            port name         state  port code  ...  year month state_abbr\n",
       "346728         Norton       Vermont        211  ...  1996     1         VT\n",
       "346729       Columbus    New Mexico       2406  ...  1996     1         NM\n",
       "346730       Hansboro  North Dakota       3415  ...  1996     1         ND\n",
       "346731  Calexico East    California       2507  ...  1996     1         CA\n",
       "346732       Presidio         Texas       2403  ...  1996     1         TX\n",
       "\n",
       "[5 rows x 11 columns]"
      ]
     },
     "execution_count": 79,
     "metadata": {
      "tags": []
     },
     "output_type": "execute_result"
    }
   ],
   "source": [
    "crossings.tail()"
   ]
  },
  {
   "cell_type": "code",
   "execution_count": 80,
   "metadata": {
    "colab": {
     "base_uri": "https://localhost:8080/",
     "height": 85
    },
    "colab_type": "code",
    "id": "ucjqjt40-k5P",
    "outputId": "13722b3a-70fd-433c-a222-7f64503b3ecf"
   },
   "outputs": [
    {
     "name": "stdout",
     "output_type": "stream",
     "text": [
      "['Trucks' 'Rail Containers Full' 'Trains' 'Personal Vehicle Passengers'\n",
      " 'Bus Passengers' 'Truck Containers Empty' 'Rail Containers Empty'\n",
      " 'Personal Vehicles' 'Buses' 'Truck Containers Full' 'Pedestrians'\n",
      " 'Train Passengers']\n"
     ]
    }
   ],
   "source": [
    "print(crossings['measure'].unique())      #All the types of conveyances included"
   ]
  },
  {
   "cell_type": "markdown",
   "metadata": {
    "colab_type": "text",
    "id": "qbkaIs9V1v3k"
   },
   "source": [
    "#4. Methods\n",
    "\n",
    "For this analysis, I'm going to create a dataframe called people_crossing that just includes the conveyances that count people - Personal Vehicle Passengers, Bus Passengers, Pedestrians, and Train Passengers. The other types (e.g., Rail Containers Full, Trucks, etc.) are a measure of how many of those types of conveyances crossed the border, but they aren't counting the people in them. I want to make sure I'm only looking at individuals who crossed the border, not freight containers.\n",
    "\n",
    "Then, I will run some descriptive statistics on the people_crossing dataset as a whole, to see what we're dealing with. After that, I will move into inferential statistics and test the four hypotheses that were laid out earlier. All relevant tests will be conducted at the 95% confidence interval.\n",
    "\n",
    "For the first hypothesis (whether or not there is a significant difference between inbound border crossings in 2012 and 2018), I will first check if the 'value' variable is normal. If it is, I'll run a t-test, and if not, I'll use the Mann-Whitney U to test the means or medians of the 'value' variable (number of crossings) between 2012 and 2018. From there, I will test for differences among the number of people who crossed in each conveyance type, and among each state's number of crossings, from 2012 to 2018. To do this, I'll separate people_crossing into 4 separate datasets - one for each type of conveyance in the year 2012. I'll then use either the independent t-test or the Mann-Whitney U to test the median amount of crossings for each conveyance type between 2012 and 2018 Then, I'll do the same for states.\n",
    "\n",
    "For the second and third hypotheses, I will proceed in exactly the same way. For the second hypothesis, I will separate all US-Mexico records off of the original people_crossing dataset Likewise, for the third hypothesis, I will be dealing only with the US-Canada border crossings. Then, when it is time to look specifically at conveyances, rather than testing again for differences in conveyance types between 2012 and 2018, I will look within 2012 and within 2018, respectively, using an ANOVA test (either parametric or non-parametric) to see if the usage of any one conveyance type is significantly different from the other conveyance types used in a specific year. \n",
    "\n",
    "Supposing the chosen ANOVA test comes out significant, I'll then use either the Tukey HSD (if parametric) or Dunn's test (if non-paramentric) as a post-hoc test to determine which sample(s) stand out from the others. I will not do this with states, since I already tested for differences between states as a part of the first hypothesis.\n",
    "\n",
    "For the fourth hypothesis, I will use either a t-test or a Mann-Whitney U test to determine if there is a significant difference between the amount of border crossings that occur at the US-Mexico border vs. the US-Canada border. I will run two tests - one for 2012 and one for 2018. Following these tests, I will make lineplots that depict the rate of border crossings by month for the US-Canada and US-Mexico borders, to better visualize the comparison between them.\n"
   ]
  },
  {
   "cell_type": "code",
   "execution_count": 81,
   "metadata": {
    "colab": {
     "base_uri": "https://localhost:8080/",
     "height": 68
    },
    "colab_type": "code",
    "id": "CMX8GTHe-nbl",
    "outputId": "ce32de6d-826f-4161-87d4-cefb039a168e"
   },
   "outputs": [
    {
     "name": "stdout",
     "output_type": "stream",
     "text": [
      "US-Canada Border    88251\n",
      "US-Mexico Border    27085\n",
      "Name: border, dtype: int64\n"
     ]
    }
   ],
   "source": [
    "#Now I'm going to separate out just the conveyance types that count people.\n",
    "people_crossing = crossings[\n",
    "                            (crossings.measure == 'Personal Vehicle Passengers') | \n",
    "                            (crossings.measure == 'Bus Passengers') | \n",
    "                            (crossings.measure == 'Pedestrians') |\n",
    "                            (crossings.measure == 'Train Passengers')]\n",
    "print(people_crossing['border'].value_counts())   #Number of records in the dataset for each border."
   ]
  },
  {
   "cell_type": "code",
   "execution_count": 82,
   "metadata": {
    "colab": {
     "base_uri": "https://localhost:8080/",
     "height": 51
    },
    "colab_type": "code",
    "id": "u5Q8UvoD9pKT",
    "outputId": "49696cc2-7b27-429e-efb3-eafd0181683b"
   },
   "outputs": [
    {
     "name": "stdout",
     "output_type": "stream",
     "text": [
      "1631864476\n",
      "5018273234\n"
     ]
    }
   ],
   "source": [
    "#Now let's see how many actual people crossed each border:\n",
    "print(people_crossing[(people_crossing['border'] == 'US-Canada Border')].value.sum())\n",
    "print(people_crossing[(people_crossing['border'] == 'US-Mexico Border')].value.sum())"
   ]
  },
  {
   "cell_type": "markdown",
   "metadata": {
    "colab_type": "text",
    "id": "A-f3FNI2CIGp"
   },
   "source": [
    "So it's noteworthy that, while the Canadian border has a larger amount of records pertaining to it, a much larger number of *people* actually crossed the US-Mexico border. What I think this means is that much larger groups at a time are crossing the US-Mexico border, while the US-Canada border sees a numerous amount of crossings with perhaps just one or two people involved."
   ]
  },
  {
   "cell_type": "markdown",
   "metadata": {
    "colab_type": "text",
    "id": "l9fCUSJ08HVq"
   },
   "source": [
    "#A. Descriptive Statistics\n",
    "\n",
    "In this section, I will visualize the relationships between 1) year and number of crossings, 2) month and number of crossings, 3) state and number of crossings, and 4) conveyance type and number of crossings. "
   ]
  },
  {
   "cell_type": "code",
   "execution_count": 83,
   "metadata": {
    "colab": {
     "base_uri": "https://localhost:8080/",
     "height": 312
    },
    "colab_type": "code",
    "id": "L1rwOaXXDg6m",
    "outputId": "9062ee4d-9326-4896-a7ec-28586ab89e88"
   },
   "outputs": [
    {
     "data": {
      "image/png": "[encoded data removed]",
      "text/plain": [
       "<Figure size 720x288 with 1 Axes>"
      ]
     },
     "metadata": {
      "tags": []
     },
     "output_type": "display_data"
    },
    {
     "data": {
      "text/plain": [
       "(-0.030257177883876822, 8.86116362472006e-25)"
      ]
     },
     "execution_count": 83,
     "metadata": {
      "tags": []
     },
     "output_type": "execute_result"
    }
   ],
   "source": [
    "#Let's look at the number of border crossings over the years, to begin with:\n",
    "plt.figure(figsize=(10,4))\n",
    "sns.scatterplot(x='year', y='value', hue='measure', data=people_crossing)\n",
    "plt.xlabel('Year')\n",
    "plt.ylabel('Number of Crossings')\n",
    "plt.title('Relationship between Year and Amount of US Inbound Border Crossings')\n",
    "sns.despine()\n",
    "plt.show()\n",
    "#And we'll test for a correlation, just to see what it is:\n",
    "stats.pearsonr(people_crossing['year'], people_crossing['value'])\n",
    "#Okay, there's basically no correlation between year & amount of crossings"
   ]
  },
  {
   "cell_type": "code",
   "execution_count": 84,
   "metadata": {
    "colab": {
     "base_uri": "https://localhost:8080/",
     "height": 350
    },
    "colab_type": "code",
    "id": "JtzrmsCXKA6v",
    "outputId": "e53e6c67-8f0f-4b6b-f72a-ecdd002fee41"
   },
   "outputs": [
    {
     "data": {
      "image/png": "[encoded data removed]",
      "text/plain": [
       "<Figure size 792x360 with 1 Axes>"
      ]
     },
     "metadata": {
      "tags": []
     },
     "output_type": "display_data"
    }
   ],
   "source": [
    "#Perhaps this could be more effectively shown as a bar chart:\n",
    "plt.figure(figsize=(11,5))\n",
    "sns.barplot('year', 'value', data=people_crossing)\n",
    "plt.title('Means of the Amount of People Crossing Inbound US Borders Each Year')\n",
    "plt.show()"
   ]
  },
  {
   "cell_type": "code",
   "execution_count": 85,
   "metadata": {
    "colab": {
     "base_uri": "https://localhost:8080/",
     "height": 332
    },
    "colab_type": "code",
    "id": "5PD_BEndaBhw",
    "outputId": "c5612d2f-cbdd-44da-8bb7-56bb680ffbbe"
   },
   "outputs": [
    {
     "data": {
      "image/png": "[encoded data removed]",
      "text/plain": [
       "<Figure size 720x288 with 1 Axes>"
      ]
     },
     "metadata": {
      "tags": []
     },
     "output_type": "display_data"
    },
    {
     "name": "stdout",
     "output_type": "stream",
     "text": [
      "DescribeResult(nobs=115336, minmax=(0, 4447374), mean=57658.82040299646, variance=56069752944.55064, skewness=7.707377686432746, kurtosis=79.12309380428306)\n"
     ]
    }
   ],
   "source": [
    "#Let's check what the distribution of the amount of crossings is:\n",
    "plt.figure(figsize=(10,4))\n",
    "sns.distplot(people_crossing['value'])\n",
    "plt.title('Distribution of Border Crossings')\n",
    "sns.despine()\n",
    "plt.show()\n",
    "print(stats.describe(people_crossing['value']))\n",
    "#It's not normal. In fact, it looks exponential."
   ]
  },
  {
   "cell_type": "code",
   "execution_count": 86,
   "metadata": {
    "colab": {
     "base_uri": "https://localhost:8080/",
     "height": 350
    },
    "colab_type": "code",
    "id": "huBcrW_iaV9o",
    "outputId": "26661859-8051-4050-cb4f-88b7d86dacd8"
   },
   "outputs": [
    {
     "data": {
      "image/png": "[encoded data removed]",
      "text/plain": [
       "<Figure size 792x360 with 1 Axes>"
      ]
     },
     "metadata": {
      "tags": []
     },
     "output_type": "display_data"
    }
   ],
   "source": [
    "#So really, a bar chart using medians as the estimator would be a more accurate measure:\n",
    "from numpy import median\n",
    "plt.figure(figsize=(11,5))\n",
    "sns.barplot('year', 'value', data=people_crossing, estimator=median)\n",
    "plt.title('Medians of the Amount of People Crossing Inbound US Borders Each Year')\n",
    "sns.despine()\n",
    "plt.show()\n",
    "#Here the spike in crossings from 2017-2019 is even more obvious."
   ]
  },
  {
   "cell_type": "code",
   "execution_count": 87,
   "metadata": {
    "colab": {
     "base_uri": "https://localhost:8080/",
     "height": 295
    },
    "colab_type": "code",
    "id": "Ogg2J4vUbJT-",
    "outputId": "9b97d273-80b8-4a82-8217-1352a3137e84"
   },
   "outputs": [
    {
     "data": {
      "image/png": "[encoded data removed]",
      "text/plain": [
       "<Figure size 720x288 with 1 Axes>"
      ]
     },
     "metadata": {
      "tags": []
     },
     "output_type": "display_data"
    }
   ],
   "source": [
    "#Now let's look at month & number of crossings:\n",
    "plt.figure(figsize=(10,4))\n",
    "sns.scatterplot(x='month', y='value', data=people_crossing)\n",
    "plt.xlabel('Month')\n",
    "plt.ylabel('Number of Crossings')\n",
    "plt.title('Relationship between Month and Amount of US Inbound Border Crossings')\n",
    "sns.despine()\n",
    "plt.show()\n",
    "#There's definitely no correlation here."
   ]
  },
  {
   "cell_type": "code",
   "execution_count": 88,
   "metadata": {
    "colab": {
     "base_uri": "https://localhost:8080/",
     "height": 387
    },
    "colab_type": "code",
    "id": "ZNX_mQerbiy-",
    "outputId": "73f9f3ec-572c-48f0-d594-b639b75e362d"
   },
   "outputs": [
    {
     "data": {
      "image/png": "[encoded data removed]",
      "text/plain": [
       "<Figure size 792x360 with 1 Axes>"
      ]
     },
     "metadata": {
      "tags": []
     },
     "output_type": "display_data"
    },
    {
     "name": "stdout",
     "output_type": "stream",
     "text": [
      "DescribeResult(nobs=115336, minmax=(1, 12), mean=6.451628286051189, variance=11.940036712254562, skewness=0.017309952730337416, kurtosis=-1.21889650262127)\n"
     ]
    }
   ],
   "source": [
    "#Let's plot the medians in a bar chart:\n",
    "plt.figure(figsize=(11,5))\n",
    "sns.barplot('month', 'value', data=people_crossing, estimator=median)\n",
    "plt.title('Medians of the Amount of People Crossing Inbound US Borders Each Month')\n",
    "plt.show()\n",
    "print(stats.describe(people_crossing['month']))\n",
    "#Okay, there's bit of a peak in the summer, that was somewhat expected.\n",
    "#Additionally, this looks pretty normal."
   ]
  },
  {
   "cell_type": "code",
   "execution_count": 89,
   "metadata": {
    "colab": {
     "base_uri": "https://localhost:8080/",
     "height": 271
    },
    "colab_type": "code",
    "id": "nrDEDEu3dQzy",
    "outputId": "89e5b30f-69e5-4ae4-e901-49567b6e3cf8"
   },
   "outputs": [
    {
     "data": {
      "image/png": "[encoded data removed]",
      "text/plain": [
       "<Figure size 936x288 with 1 Axes>"
      ]
     },
     "metadata": {
      "tags": []
     },
     "output_type": "display_data"
    }
   ],
   "source": [
    "#Now let's see what's going on with states and the amount of crossings in each:\n",
    "plt.figure(figsize=(13,4))\n",
    "sns.scatterplot(x='state', y='value', data=people_crossing)\n",
    "plt.xlabel('State')\n",
    "plt.ylabel('Number of Crossings')\n",
    "plt.title('Relationship between State and Amount of US Inbound Border Crossings')\n",
    "sns.despine()\n",
    "plt.show()\n",
    "#Texas and California see the most border crossings, followed by New York and Michigan."
   ]
  },
  {
   "cell_type": "code",
   "execution_count": 90,
   "metadata": {
    "colab": {
     "base_uri": "https://localhost:8080/",
     "height": 715
    },
    "colab_type": "code",
    "id": "sG3aR4y6rmWN",
    "outputId": "d6df9231-65c7-4f15-e85e-74e9381a0607"
   },
   "outputs": [
    {
     "data": {
      "image/png": "[encoded data removed]",
      "text/plain": [
       "<Figure size 1080x1080 with 1 Axes>"
      ]
     },
     "metadata": {
      "tags": []
     },
     "output_type": "display_data"
    }
   ],
   "source": [
    "#We should be able to see measures of central tendency better with a boxplot:\n",
    "plt.figure(figsize=(15,15))\n",
    "state_crossings_bp = sns.boxplot(y=\"value\", x=\"state\", data=people_crossing)\n",
    "plt.xlabel(\"State\")\n",
    "plt.ylabel(\"Number of Crossings\")\n",
    "plt.title(\"Number of Inbound US Border Crossings by US State\")\n",
    "sns.despine()\n",
    "plt.show(state_crossings_bp)\n",
    "#Wow, there's a ton of high outliers. This boxplot wasn't highly useful for central tendency after all,\n",
    "#so I think I may stick to other types of figures."
   ]
  },
  {
   "cell_type": "code",
   "execution_count": 91,
   "metadata": {
    "colab": {
     "base_uri": "https://localhost:8080/",
     "height": 292
    },
    "colab_type": "code",
    "id": "Ay7-TNczoZ4J",
    "outputId": "cebe5b2a-955f-482b-cae1-078cf769841a"
   },
   "outputs": [
    {
     "data": {
      "image/png": "[encoded data removed]",
      "text/plain": [
       "<Figure size 1008x360 with 1 Axes>"
      ]
     },
     "metadata": {
      "tags": []
     },
     "output_type": "display_data"
    }
   ],
   "source": [
    "#Now we'll plot medians for each state as a bar chart:\n",
    "plt.figure(figsize=(14,5))\n",
    "sns.barplot('state', 'value', data=people_crossing, estimator=median)\n",
    "plt.title('Medians of the Amount of People Crossing Inbound US Borders By State')\n",
    "sns.despine()\n",
    "plt.show()\n",
    "#As seen on the boxplot earlier, Texas has the most outliers, so it technically received more inbound visitors.\n",
    "#But when looking at medians, California's is by far the highest."
   ]
  },
  {
   "cell_type": "code",
   "execution_count": 92,
   "metadata": {
    "colab": {
     "base_uri": "https://localhost:8080/",
     "height": 295
    },
    "colab_type": "code",
    "id": "HhR0eIkSuQLP",
    "outputId": "47ece8a5-2874-4ad3-b27c-a4438807bf6a"
   },
   "outputs": [
    {
     "data": {
      "image/png": "[encoded data removed]",
      "text/plain": [
       "<Figure size 720x288 with 1 Axes>"
      ]
     },
     "metadata": {
      "tags": []
     },
     "output_type": "display_data"
    }
   ],
   "source": [
    "#Finally, we'll look at the relationship between conveyance type and number of crossings in each:\n",
    "plt.figure(figsize=(10,4))\n",
    "sns.scatterplot(x='measure', y='value', data=people_crossing)\n",
    "plt.xlabel('Conveyance')\n",
    "plt.ylabel('Number of Crossings')\n",
    "plt.title('Relationship between Conveyance Type and Amount of US Inbound Border Crossings')\n",
    "sns.despine()\n",
    "plt.show()"
   ]
  },
  {
   "cell_type": "code",
   "execution_count": 93,
   "metadata": {
    "colab": {
     "base_uri": "https://localhost:8080/",
     "height": 350
    },
    "colab_type": "code",
    "id": "ayb66p-ExuXK",
    "outputId": "94fb9716-2c2a-446c-98c2-3b80077e30d1"
   },
   "outputs": [
    {
     "data": {
      "image/png": "[encoded data removed]",
      "text/plain": [
       "<Figure size 792x360 with 1 Axes>"
      ]
     },
     "metadata": {
      "tags": []
     },
     "output_type": "display_data"
    }
   ],
   "source": [
    "#Now here's a bar chart of the medians of conveyance types:\n",
    "plt.figure(figsize=(11,5))\n",
    "sns.barplot('measure', 'value', data=people_crossing, estimator=median)\n",
    "plt.title('Medians of the Amount of People Crossing Inbound US Borders By Conveyance Type')\n",
    "sns.despine()\n",
    "plt.show()\n",
    "#So Personal Vehical Passengers were the most common by far (also evident in the above scatterplot)."
   ]
  },
  {
   "cell_type": "markdown",
   "metadata": {
    "colab_type": "text",
    "id": "Npi3MsOj7FB1"
   },
   "source": [
    "#B. Inferential Statistics\n",
    "\n",
    "In this section, I will test the 3 hypotheses given in the introduction.\n",
    "\n",
    "**Hypothesis 1:**\n",
    "\n",
    "Ho: There is no significant difference in overall inbound US border crossings from 2012 to 2018.\n",
    "\n",
    "Ha: There is a significant difference in overall inbound US border crossings from 2012 to 2018."
   ]
  },
  {
   "cell_type": "code",
   "execution_count": 0,
   "metadata": {
    "colab": {},
    "colab_type": "code",
    "id": "EKRhPDFa67it"
   },
   "outputs": [],
   "source": [
    "#First, I'll separate out datasets with 2012 values and 2018 values, using people_crossing as my\n",
    "#original dataset, since I'm only interested in people, not counts of vehicles or freight.\n",
    "crossing_2012 = people_crossing[people_crossing['year'] == 2012]\n",
    "crossing_2018 = people_crossing[people_crossing['year'] == 2018]"
   ]
  },
  {
   "cell_type": "code",
   "execution_count": 95,
   "metadata": {
    "colab": {
     "base_uri": "https://localhost:8080/",
     "height": 387
    },
    "colab_type": "code",
    "id": "1v6HvL4j_LW1",
    "outputId": "2cd73563-e3c1-4614-f31d-2f3c4f9bc4c8"
   },
   "outputs": [
    {
     "data": {
      "image/png": "[encoded data removed]",
      "text/plain": [
       "<Figure size 792x360 with 1 Axes>"
      ]
     },
     "metadata": {
      "tags": []
     },
     "output_type": "display_data"
    },
    {
     "name": "stdout",
     "output_type": "stream",
     "text": [
      "DescribeResult(nobs=5280, minmax=(0, 1775986), mean=42461.910037878784, variance=25235192416.058018, skewness=6.073557731843657, kurtosis=44.83119183553832)\n",
      "DescribeResult(nobs=3040, minmax=(0, 2245201), mean=81232.2125, variance=58687307207.994316, skewness=5.124381627865733, kurtosis=32.18151055847187)\n"
     ]
    }
   ],
   "source": [
    "#Now I'll check normality for the number of crossings for these 2 years specifically, \n",
    "#first using histograms and measures of skewness & kurtosis:\n",
    "plt.figure(figsize=(11,5))\n",
    "crossing_2012.value.hist(alpha = .5)\n",
    "crossing_2018.value.hist(alpha = .5)\n",
    "sns.despine()\n",
    "plt.show()\n",
    "print(stats.describe(crossing_2012['value']))\n",
    "print(stats.describe(crossing_2018['value']))"
   ]
  },
  {
   "cell_type": "code",
   "execution_count": 96,
   "metadata": {
    "colab": {
     "base_uri": "https://localhost:8080/",
     "height": 34
    },
    "colab_type": "code",
    "id": "rqmvyvT2AFbj",
    "outputId": "8c4e2325-96b8-459a-9467-88828a5ac5bc"
   },
   "outputs": [
    {
     "data": {
      "text/plain": [
       "MannwhitneyuResult(statistic=4759234.5, pvalue=1.4854702742915714e-214)"
      ]
     },
     "execution_count": 96,
     "metadata": {
      "tags": []
     },
     "output_type": "execute_result"
    }
   ],
   "source": [
    "#Right, so they're definitely not normal. No need to conduct a Shapiro-Wilk test here.\n",
    "#We'll test for a significant difference between the two years using the Mann-Whitney U test:\n",
    "stats.mannwhitneyu(crossing_2012['value'], crossing_2018['value'])"
   ]
  },
  {
   "cell_type": "markdown",
   "metadata": {
    "colab_type": "text",
    "id": "F4Gw_sf2YtOR"
   },
   "source": [
    "There is a significant difference between between the median amount of border crossings between 2012 and 2018 (p < .001). We can reject the null hypothesis.\n",
    "\n",
    "Our next step is to write a function to calculate 95% confidence intervals for Mann Whitney U Tests (since we'll be using those almost exclusively throughout this analysis). We'll then use it to test the above Mann Whitney U, and we'll continue to use it throughout."
   ]
  },
  {
   "cell_type": "code",
   "execution_count": 0,
   "metadata": {
    "colab": {},
    "colab_type": "code",
    "id": "mnFhqZfywhNo"
   },
   "outputs": [],
   "source": [
    "#First, here are some smaller functions we will call in our larger function for CIs:\n",
    "\n",
    "#returns sum of relevant column in df:\n",
    "def col_sum(values):\n",
    "  result = values.sum()\n",
    "  return result\n",
    "\n",
    "#returns sum, median, and std deviation of relevant column in df:\n",
    "def agg_stats(df_obj):\n",
    "  return df_obj.agg([col_sum, median, np.std])   "
   ]
  },
  {
   "cell_type": "code",
   "execution_count": 98,
   "metadata": {
    "colab": {
     "base_uri": "https://localhost:8080/",
     "height": 357
    },
    "colab_type": "code",
    "id": "DaRra9Orsz0e",
    "outputId": "f02f0c95-2036-4da0-b835-58941c6d2837"
   },
   "outputs": [
    {
     "name": "stdout",
     "output_type": "stream",
     "text": [
      "Dataframe 1 Aggregated Stats:\n",
      "col_sum    2.241989e+08\n",
      "median     5.350000e+01\n",
      "std        1.588559e+05\n",
      "Name: value, dtype: float64\n",
      "\n",
      "\n",
      "Dataframe 2 Aggregated Stats:\n",
      "col_sum    2.469459e+08\n",
      "median     2.876500e+03\n",
      "std        2.422546e+05\n",
      "Name: value, dtype: float64\n",
      "Difference between Medians: \n",
      "-2823.0\n",
      "Difference between Standard Deviations: \n",
      "-83373.94340726142\n",
      "Difference between Sums: \n",
      "-22747041\n",
      "95% Confidence Interval: \n",
      "[[-2857.262887425092], [-2788.737112574908]]\n"
     ]
    }
   ],
   "source": [
    "#Okay, now I'll create a function that can calculate 95% CIs for all my Mann Whitney U tests:\n",
    "def ci95_mwu (df_obj1, df_obj2):\n",
    "  print('Dataframe 1 Aggregated Stats:')\n",
    "  print(agg_stats(df_obj1))\n",
    "  print('\\n')\n",
    "  print('Dataframe 2 Aggregated Stats:')\n",
    "  print(agg_stats(df_obj2))\n",
    "  med_diff = (df_obj1.median()) - (df_obj2.median())\n",
    "  std_diff = (np.std(df_obj1)) - (np.std(df_obj2))\n",
    "  sum_diff = (col_sum(df_obj1)) - (col_sum(df_obj2))\n",
    "  print('Difference between Medians: ')\n",
    "  print(med_diff)\n",
    "  print('Difference between Standard Deviations: ')\n",
    "  print(std_diff)\n",
    "  print('Difference between Sums: ')\n",
    "  print(sum_diff)\n",
    "  ci95_hi = []\n",
    "  ci95_lo = []\n",
    "  ci95_hi.append(med_diff + 1.96 * std_diff / math.sqrt(abs(sum_diff)))\n",
    "  ci95_lo.append(med_diff - 1.96 * std_diff / math.sqrt(abs(sum_diff)))\n",
    "  print('95% Confidence Interval: ')\n",
    "  return [ci95_hi, ci95_lo]\n",
    "print(ci95_mwu(crossing_2012['value'], crossing_2018['value']))  "
   ]
  },
  {
   "cell_type": "markdown",
   "metadata": {
    "colab_type": "text",
    "id": "5YlLaWFJBSBX"
   },
   "source": [
    "So now that we have the CI, we'll recap:\n",
    "\n",
    "There is a significant difference between the medians of the overall amount of inbound US border crossings in 2012 vs. 2018 (p < .001). We can reject the null hypothesis, as it's clear these samples did not come from the same distribution. \n",
    "\n",
    "At the 95% confidence level, the median difference between 2012 border crossings and the 2018 border crossings is between -2857 and -2789. \n",
    "\n",
    "That is, the median of 2012 border crossings is approximately 2857 to 2789 crossings lower than the median of 2018 border crossings.\n",
    "\n"
   ]
  },
  {
   "cell_type": "markdown",
   "metadata": {
    "colab_type": "text",
    "id": "N908p_twdhWs"
   },
   "source": [
    "Now, to further illustrate any key differences between 2012 and 2018 border crossings, I will test for differences among the number of people who crossed in each conveyance type, and among each state's number of crossings.\n",
    "\n",
    "I will examine them in the following order:\n",
    "\n",
    "1) 2012 conveyances\n",
    "\n",
    "2) 2018 conveyances\n",
    "\n",
    "3) 2012 states\n",
    "\n",
    "4) 2018 states"
   ]
  },
  {
   "cell_type": "code",
   "execution_count": 99,
   "metadata": {
    "colab": {
     "base_uri": "https://localhost:8080/",
     "height": 85
    },
    "colab_type": "code",
    "id": "qs094vZ5AZLC",
    "outputId": "ac349368-d890-4be7-9f83-5c9b56311173"
   },
   "outputs": [
    {
     "name": "stdout",
     "output_type": "stream",
     "text": [
      "5302245\n",
      "41566510\n",
      "272367\n",
      "177057763\n"
     ]
    }
   ],
   "source": [
    "#I'll split off each of the conveyance types from 2012, so I can more easily test for\n",
    "#significant differences between conveyance type.\n",
    "bus_2012 = crossing_2012[(crossing_2012['measure'] == 'Bus Passengers')]\n",
    "peds_2012 = crossing_2012[(crossing_2012['measure'] == 'Pedestrians')]\n",
    "train_2012 = crossing_2012[(crossing_2012['measure'] == 'Train Passengers')]\n",
    "pvp_2012 = crossing_2012[(crossing_2012['measure'] == 'Personal Vehicle Passengers')]\n",
    "\n",
    "#Let's get a count of each type for 2012:\n",
    "print(bus_2012.value.sum())\n",
    "print(peds_2012.value.sum())\n",
    "print(train_2012.value.sum())\n",
    "print(pvp_2012.value.sum())"
   ]
  },
  {
   "cell_type": "code",
   "execution_count": 100,
   "metadata": {
    "colab": {
     "base_uri": "https://localhost:8080/",
     "height": 85
    },
    "colab_type": "code",
    "id": "p6l3M6EYMhHh",
    "outputId": "ebcf812c-04a0-445f-8a78-0785e3e3dbe2"
   },
   "outputs": [
    {
     "name": "stdout",
     "output_type": "stream",
     "text": [
      "3633900\n",
      "46660171\n",
      "299753\n",
      "196352102\n"
     ]
    }
   ],
   "source": [
    "#Now we will do the same thing regarding 2018 conveyances, in the overall dataset.\n",
    "bus_2018 = crossing_2018[(crossing_2018['measure'] == 'Bus Passengers')]\n",
    "peds_2018 = crossing_2018[(crossing_2018['measure'] == 'Pedestrians')]\n",
    "train_2018 = crossing_2018[(crossing_2018['measure'] == 'Train Passengers')]\n",
    "pvp_2018 = crossing_2018[(crossing_2018['measure'] == 'Personal Vehicle Passengers')]\n",
    "\n",
    "#Let's get a count of each type for 2018:\n",
    "print(bus_2018.value.sum())\n",
    "print(peds_2018.value.sum())\n",
    "print(train_2018.value.sum())\n",
    "print(pvp_2018.value.sum())\n"
   ]
  },
  {
   "cell_type": "code",
   "execution_count": 101,
   "metadata": {
    "colab": {
     "base_uri": "https://localhost:8080/",
     "height": 610
    },
    "colab_type": "code",
    "id": "0GJVi6glFWc8",
    "outputId": "986609b3-450e-4142-fd6d-77966b1d070c"
   },
   "outputs": [
    {
     "name": "stderr",
     "output_type": "stream",
     "text": [
      "/usr/local/lib/python3.6/dist-packages/pandas/plotting/_matplotlib/tools.py:307: MatplotlibDeprecationWarning: \n",
      "The rowNum attribute was deprecated in Matplotlib 3.2 and will be removed two minor releases later. Use ax.get_subplotspec().rowspan.start instead.\n",
      "  layout[ax.rowNum, ax.colNum] = ax.get_visible()\n",
      "/usr/local/lib/python3.6/dist-packages/pandas/plotting/_matplotlib/tools.py:307: MatplotlibDeprecationWarning: \n",
      "The colNum attribute was deprecated in Matplotlib 3.2 and will be removed two minor releases later. Use ax.get_subplotspec().colspan.start instead.\n",
      "  layout[ax.rowNum, ax.colNum] = ax.get_visible()\n",
      "/usr/local/lib/python3.6/dist-packages/pandas/plotting/_matplotlib/tools.py:313: MatplotlibDeprecationWarning: \n",
      "The rowNum attribute was deprecated in Matplotlib 3.2 and will be removed two minor releases later. Use ax.get_subplotspec().rowspan.start instead.\n",
      "  if not layout[ax.rowNum + 1, ax.colNum]:\n",
      "/usr/local/lib/python3.6/dist-packages/pandas/plotting/_matplotlib/tools.py:313: MatplotlibDeprecationWarning: \n",
      "The colNum attribute was deprecated in Matplotlib 3.2 and will be removed two minor releases later. Use ax.get_subplotspec().colspan.start instead.\n",
      "  if not layout[ax.rowNum + 1, ax.colNum]:\n"
     ]
    },
    {
     "data": {
      "text/plain": [
       "<Figure size 720x288 with 0 Axes>"
      ]
     },
     "metadata": {
      "tags": []
     },
     "output_type": "display_data"
    },
    {
     "data": {
      "image/png": "[encoded data removed]",
      "text/plain": [
       "<Figure size 432x288 with 4 Axes>"
      ]
     },
     "metadata": {
      "tags": []
     },
     "output_type": "display_data"
    },
    {
     "name": "stdout",
     "output_type": "stream",
     "text": [
      "DescribeResult(nobs=5280, minmax=(False, True), mean=0.25, variance=0.18753551809054744, skewness=1.1547005383792515, kurtosis=-0.6666666666666665)\n",
      "DescribeResult(nobs=5280, minmax=(False, True), mean=0.25, variance=0.18753551809054744, skewness=1.1547005383792515, kurtosis=-0.6666666666666665)\n",
      "DescribeResult(nobs=5280, minmax=(False, True), mean=0.25, variance=0.18753551809054744, skewness=1.1547005383792515, kurtosis=-0.6666666666666665)\n",
      "DescribeResult(nobs=5280, minmax=(False, True), mean=0.25, variance=0.18753551809054744, skewness=1.1547005383792515, kurtosis=-0.6666666666666665)\n"
     ]
    }
   ],
   "source": [
    "#Let's check each of the conveyance samples for normality:\n",
    "plt.figure(figsize=(10,4))\n",
    "crossing_2012.value.hist(by = crossing_2012.measure)\n",
    "sns.despine()\n",
    "plt.show()\n",
    "print(stats.describe(crossing_2012['measure'] == 'Bus Passengers'))\n",
    "print(stats.describe(crossing_2012['measure'] == 'Pedestrians'))\n",
    "print(stats.describe(crossing_2012['measure'] == 'Train Passengers'))\n",
    "print(stats.describe(crossing_2012['measure'] == 'Personal Vehicle Passengers'))\n",
    "#None are normal."
   ]
  },
  {
   "cell_type": "code",
   "execution_count": 102,
   "metadata": {
    "colab": {
     "base_uri": "https://localhost:8080/",
     "height": 610
    },
    "colab_type": "code",
    "id": "YCNs6GDJM0jL",
    "outputId": "3e481753-8928-492b-dda8-00cbb2f7b632"
   },
   "outputs": [
    {
     "name": "stderr",
     "output_type": "stream",
     "text": [
      "/usr/local/lib/python3.6/dist-packages/pandas/plotting/_matplotlib/tools.py:307: MatplotlibDeprecationWarning: \n",
      "The rowNum attribute was deprecated in Matplotlib 3.2 and will be removed two minor releases later. Use ax.get_subplotspec().rowspan.start instead.\n",
      "  layout[ax.rowNum, ax.colNum] = ax.get_visible()\n",
      "/usr/local/lib/python3.6/dist-packages/pandas/plotting/_matplotlib/tools.py:307: MatplotlibDeprecationWarning: \n",
      "The colNum attribute was deprecated in Matplotlib 3.2 and will be removed two minor releases later. Use ax.get_subplotspec().colspan.start instead.\n",
      "  layout[ax.rowNum, ax.colNum] = ax.get_visible()\n",
      "/usr/local/lib/python3.6/dist-packages/pandas/plotting/_matplotlib/tools.py:313: MatplotlibDeprecationWarning: \n",
      "The rowNum attribute was deprecated in Matplotlib 3.2 and will be removed two minor releases later. Use ax.get_subplotspec().rowspan.start instead.\n",
      "  if not layout[ax.rowNum + 1, ax.colNum]:\n",
      "/usr/local/lib/python3.6/dist-packages/pandas/plotting/_matplotlib/tools.py:313: MatplotlibDeprecationWarning: \n",
      "The colNum attribute was deprecated in Matplotlib 3.2 and will be removed two minor releases later. Use ax.get_subplotspec().colspan.start instead.\n",
      "  if not layout[ax.rowNum + 1, ax.colNum]:\n"
     ]
    },
    {
     "data": {
      "text/plain": [
       "<Figure size 720x288 with 0 Axes>"
      ]
     },
     "metadata": {
      "tags": []
     },
     "output_type": "display_data"
    },
    {
     "data": {
      "image/png": "[encoded data removed]",
      "text/plain": [
       "<Figure size 432x288 with 4 Axes>"
      ]
     },
     "metadata": {
      "tags": []
     },
     "output_type": "display_data"
    },
    {
     "name": "stdout",
     "output_type": "stream",
     "text": [
      "DescribeResult(nobs=3040, minmax=(False, True), mean=0.23651315789473684, variance=0.18063410315027453, skewness=1.2401108188085292, kurtosis=-0.46212515707403945)\n",
      "DescribeResult(nobs=3040, minmax=(False, True), mean=0.2292763157894737, variance=0.17676683379227928, skewness=1.2880339120962858, kurtosis=-0.3409686412899373)\n",
      "DescribeResult(nobs=3040, minmax=(False, True), mean=0.10657894736842105, variance=0.09525120798046449, skewness=2.5499037486616385, kurtosis=4.502009127438679)\n",
      "DescribeResult(nobs=3040, minmax=(False, True), mean=0.4276315789473684, variance=0.24484335221073422, skewness=0.29255422615841276, kurtosis=-1.9144120247568528)\n"
     ]
    }
   ],
   "source": [
    "#Now for 2018, though it's almost assuredly non-normal:\n",
    "plt.figure(figsize=(10,4))\n",
    "crossing_2018.value.hist(by = crossing_2018.measure)\n",
    "sns.despine()\n",
    "plt.show()\n",
    "print(stats.describe(crossing_2018['measure'] == 'Bus Passengers'))\n",
    "print(stats.describe(crossing_2018['measure'] == 'Pedestrians'))\n",
    "print(stats.describe(crossing_2018['measure'] == 'Train Passengers'))\n",
    "print(stats.describe(crossing_2018['measure'] == 'Personal Vehicle Passengers'))\n",
    "#None are normal. This is very similar to the 2012 distributions."
   ]
  },
  {
   "cell_type": "code",
   "execution_count": 103,
   "metadata": {
    "colab": {
     "base_uri": "https://localhost:8080/",
     "height": 34
    },
    "colab_type": "code",
    "id": "-3u-gFfwNHSH",
    "outputId": "20bc78c1-813a-4918-9cfe-3e98ffeac1a0"
   },
   "outputs": [
    {
     "data": {
      "text/plain": [
       "MannwhitneyuResult(statistic=287347.5, pvalue=2.0469410214093583e-50)"
      ]
     },
     "execution_count": 103,
     "metadata": {
      "tags": []
     },
     "output_type": "execute_result"
    }
   ],
   "source": [
    "#So, since our distributions are non-normal,\n",
    "#we'll test for a significant difference between conveyance types using Mann-Whitney U:\n",
    "stats.mannwhitneyu(bus_2012['value'], bus_2018['value'])"
   ]
  },
  {
   "cell_type": "code",
   "execution_count": 104,
   "metadata": {
    "colab": {
     "base_uri": "https://localhost:8080/",
     "height": 357
    },
    "colab_type": "code",
    "id": "Rd--DAjIhJnB",
    "outputId": "4aeca104-82f4-4368-fafc-46b8c49a1a79"
   },
   "outputs": [
    {
     "name": "stdout",
     "output_type": "stream",
     "text": [
      "Dataframe 1 Aggregated Stats:\n",
      "col_sum    5.302245e+06\n",
      "median     4.800000e+01\n",
      "std        1.249193e+04\n",
      "Name: value, dtype: float64\n",
      "\n",
      "\n",
      "Dataframe 2 Aggregated Stats:\n",
      "col_sum    3.633900e+06\n",
      "median     4.720000e+02\n",
      "std        1.263627e+04\n",
      "Name: value, dtype: float64\n",
      "Difference between Medians: \n",
      "-424.0\n",
      "Difference between Standard Deviations: \n",
      "-140.28754592183031\n",
      "Difference between Sums: \n",
      "1668345\n",
      "95% Confidence Interval: \n",
      "[[-424.21287872351473], [-423.78712127648527]]\n"
     ]
    }
   ],
   "source": [
    "#Now getting the CI:\n",
    "print(ci95_mwu(bus_2012['value'], bus_2018['value']))"
   ]
  },
  {
   "cell_type": "markdown",
   "metadata": {
    "colab_type": "text",
    "id": "0CmKKshANbXv"
   },
   "source": [
    "There is a significant difference between bus crossings in 2012 and in 2018 (p < .001). We can reject the null hypothesis. \n",
    "\n",
    "At the 95% confidence level, the median difference between 2012 bus crossings and 2018 bus crossings is between -424.21 and -424.79.\n",
    "\n",
    "That is, the median of 2012 bus crossings in between 424.21 and 424.79 crossings lower than the median of 2018 bus crossings."
   ]
  },
  {
   "cell_type": "code",
   "execution_count": 105,
   "metadata": {
    "colab": {
     "base_uri": "https://localhost:8080/",
     "height": 34
    },
    "colab_type": "code",
    "id": "H76gVk-yONBC",
    "outputId": "1eee21a1-90f5-4869-daf8-dea406ecc381"
   },
   "outputs": [
    {
     "data": {
      "text/plain": [
       "MannwhitneyuResult(statistic=238761.0, pvalue=4.0653118963651705e-73)"
      ]
     },
     "execution_count": 105,
     "metadata": {
      "tags": []
     },
     "output_type": "execute_result"
    }
   ],
   "source": [
    "#Now for pedestrians:\n",
    "stats.mannwhitneyu(peds_2012['value'], peds_2018['value'])"
   ]
  },
  {
   "cell_type": "code",
   "execution_count": 106,
   "metadata": {
    "colab": {
     "base_uri": "https://localhost:8080/",
     "height": 357
    },
    "colab_type": "code",
    "id": "4HiDkVE7ipan",
    "outputId": "2c930323-e919-41b9-f434-c9febf5847b0"
   },
   "outputs": [
    {
     "name": "stdout",
     "output_type": "stream",
     "text": [
      "Dataframe 1 Aggregated Stats:\n",
      "col_sum    4.156651e+07\n",
      "median     3.000000e+00\n",
      "std        1.014929e+05\n",
      "Name: value, dtype: float64\n",
      "\n",
      "\n",
      "Dataframe 2 Aggregated Stats:\n",
      "col_sum    4.666017e+07\n",
      "median     8.770000e+02\n",
      "std        1.490064e+05\n",
      "Name: value, dtype: float64\n",
      "Difference between Medians: \n",
      "-874.0\n",
      "Difference between Standard Deviations: \n",
      "-47445.05669451265\n",
      "Difference between Sums: \n",
      "-5093661\n",
      "95% Confidence Interval: \n",
      "[[-915.2033020870961], [-832.7966979129039]]\n"
     ]
    }
   ],
   "source": [
    "#Getting 95% CI:\n",
    "print(ci95_mwu(peds_2012['value'], peds_2018['value']))"
   ]
  },
  {
   "cell_type": "markdown",
   "metadata": {
    "colab_type": "text",
    "id": "FGGMNNvgOXiF"
   },
   "source": [
    "There is a significant difference between pedestrian crossings in 2012 and in 2018 (p < .001). We can reject the null hypothesis.\n",
    "\n",
    "At the 95% confidence level, the median difference between pedestrian crossings in 2012 and pedestrian crossings in 2018 is between -915 and -833. \n",
    "\n",
    "That is, pedestrian crossings in 2012 are between 915 and 833 crossings lower than in 2018."
   ]
  },
  {
   "cell_type": "code",
   "execution_count": 107,
   "metadata": {
    "colab": {
     "base_uri": "https://localhost:8080/",
     "height": 34
    },
    "colab_type": "code",
    "id": "nYdYugrBOsHc",
    "outputId": "bc6cfa28-1c88-4176-e3f0-0b538dccdc00"
   },
   "outputs": [
    {
     "data": {
      "text/plain": [
       "MannwhitneyuResult(statistic=53814.0, pvalue=4.6942352528922135e-124)"
      ]
     },
     "execution_count": 107,
     "metadata": {
      "tags": []
     },
     "output_type": "execute_result"
    }
   ],
   "source": [
    "#Now for train passengers:\n",
    "stats.mannwhitneyu(train_2012['value'], train_2018['value'])"
   ]
  },
  {
   "cell_type": "code",
   "execution_count": 108,
   "metadata": {
    "colab": {
     "base_uri": "https://localhost:8080/",
     "height": 357
    },
    "colab_type": "code",
    "id": "ZBxcdRM0uWX_",
    "outputId": "10cab34a-12c7-40ae-9da7-1ba8f9b75143"
   },
   "outputs": [
    {
     "name": "stdout",
     "output_type": "stream",
     "text": [
      "Dataframe 1 Aggregated Stats:\n",
      "col_sum    272367.000000\n",
      "median          0.000000\n",
      "std          1198.379446\n",
      "Name: value, dtype: float64\n",
      "\n",
      "\n",
      "Dataframe 2 Aggregated Stats:\n",
      "col_sum    299753.000000\n",
      "median         92.000000\n",
      "std          3106.213516\n",
      "Name: value, dtype: float64\n",
      "Difference between Medians: \n",
      "-92.0\n",
      "Difference between Standard Deviations: \n",
      "-1903.490844417523\n",
      "Difference between Sums: \n",
      "-27386\n",
      "95% Confidence Interval: \n",
      "[[-114.5446014274683], [-69.4553985725317]]\n"
     ]
    }
   ],
   "source": [
    "#Getting 95% CI:\n",
    "print(ci95_mwu(train_2012['value'], train_2018['value']))"
   ]
  },
  {
   "cell_type": "markdown",
   "metadata": {
    "colab_type": "text",
    "id": "yzJFn76hO0Qt"
   },
   "source": [
    "There is a significant difference between crossings by train in 2012 and in 2018 (p < .001). We can reject the null hypothesis.\n",
    "\n",
    "At the 95% confidence level, the median difference between train crossings in 2012 and train crossings in 2018 is between -115 and -69.\n",
    "\n",
    "That is, train crossings in 2012 are between 115 and 69 crossings lower than in 2018."
   ]
  },
  {
   "cell_type": "code",
   "execution_count": 109,
   "metadata": {
    "colab": {
     "base_uri": "https://localhost:8080/",
     "height": 34
    },
    "colab_type": "code",
    "id": "NKe9IkMGPFFG",
    "outputId": "010b355f-7080-40f5-9dab-bcc7167228f6"
   },
   "outputs": [
    {
     "data": {
      "text/plain": [
       "MannwhitneyuResult(statistic=838610.5, pvalue=0.15829092052948274)"
      ]
     },
     "execution_count": 109,
     "metadata": {
      "tags": []
     },
     "output_type": "execute_result"
    }
   ],
   "source": [
    "#Finally for personal vehicle passengers:\n",
    "stats.mannwhitneyu(pvp_2012['value'], pvp_2018['value'])"
   ]
  },
  {
   "cell_type": "code",
   "execution_count": 110,
   "metadata": {
    "colab": {
     "base_uri": "https://localhost:8080/",
     "height": 357
    },
    "colab_type": "code",
    "id": "mhuURMozvIQF",
    "outputId": "2fc0dc28-5cf8-4d9a-f98a-8e7ee7ebde1f"
   },
   "outputs": [
    {
     "name": "stdout",
     "output_type": "stream",
     "text": [
      "Dataframe 1 Aggregated Stats:\n",
      "col_sum    1.770578e+08\n",
      "median     2.012600e+04\n",
      "std        2.806120e+05\n",
      "Name: value, dtype: float64\n",
      "\n",
      "\n",
      "Dataframe 2 Aggregated Stats:\n",
      "col_sum    1.963521e+08\n",
      "median     1.571100e+04\n",
      "std        3.398596e+05\n",
      "Name: value, dtype: float64\n",
      "Difference between Medians: \n",
      "4415.0\n",
      "Difference between Standard Deviations: \n",
      "-59223.14099479694\n",
      "Difference between Sums: \n",
      "-19294339\n",
      "95% Confidence Interval: \n",
      "[[4388.573931516098], [4441.426068483902]]\n"
     ]
    }
   ],
   "source": [
    "#Getting 95% CI:\n",
    "print(ci95_mwu(pvp_2012['value'], pvp_2018['value']))"
   ]
  },
  {
   "cell_type": "markdown",
   "metadata": {
    "colab_type": "text",
    "id": "vk0E7EEVPcAu"
   },
   "source": [
    "There is not a significant difference between personal vehicle passenger crossings in 2012 and in 2018. We'll fail to reject the null hypothesis.\n",
    "\n",
    "However, at the 95% confidence level, the median difference between pvp crossings in 2012 and pvp crossings in 2018 is between 4389 and 4441.\n",
    "\n",
    "That is, pvp crossings in 2012 are between 4389 and 4441 crossings higher than in 2018.\n",
    "\n",
    "---------------------------\n",
    "Now we'll move on to testing for differences between **states** in 2012 vs. 2018.\n",
    "We're going to continue with the knowledge that all variables in the dataset are non-normal, so we won't be testing for normality again."
   ]
  },
  {
   "cell_type": "code",
   "execution_count": 111,
   "metadata": {
    "colab": {
     "base_uri": "https://localhost:8080/",
     "height": 255
    },
    "colab_type": "code",
    "id": "5My3t8LsQ5fm",
    "outputId": "d011b14f-d1da-4eec-ce04-2523318fef73"
   },
   "outputs": [
    {
     "name": "stdout",
     "output_type": "stream",
     "text": [
      "Alaska 2012:  475967\n",
      "Arizona 2012:  21248852\n",
      "California 2012:  63078793\n",
      "Idaho 2012:  525697\n",
      "Maine 2012:  4999254\n",
      "Michigan 2012:  13524726\n",
      "Minnesota 2012:  2117841\n",
      "Montana 2012:  1329780\n",
      "New Mexico 2012:  1835195\n",
      "New York 2012:  21501579\n",
      "North Dakota 2012:  1785340\n",
      "Texas 2012:  72898341\n",
      "Vermont 2012:  2909013\n",
      "Washington 2012:  15968507\n"
     ]
    }
   ],
   "source": [
    "#Starting with splitting off 2012 states:\n",
    "alaska_2012 = crossing_2012[(crossing_2012['state'] == 'Alaska')]\n",
    "arizona_2012 = crossing_2012[(crossing_2012['state'] == 'Arizona')]\n",
    "california_2012 = crossing_2012[(crossing_2012['state'] == 'California')]\n",
    "idaho_2012 = crossing_2012[(crossing_2012['state'] == 'Idaho')]\n",
    "maine_2012 = crossing_2012[(crossing_2012['state'] == 'Maine')]\n",
    "michigan_2012 = crossing_2012[(crossing_2012['state'] == 'Michigan')]\n",
    "minnesota_2012 = crossing_2012[(crossing_2012['state'] == 'Minnesota')]\n",
    "montana_2012 = crossing_2012[(crossing_2012['state'] == 'Montana')]\n",
    "new_mexico_2012 = crossing_2012[(crossing_2012['state'] == 'New Mexico')]\n",
    "new_york_2012 = crossing_2012[(crossing_2012['state'] == 'New York')]\n",
    "north_dakota_2012 = crossing_2012[(crossing_2012['state'] == 'North Dakota')]\n",
    "texas_2012 = crossing_2012[(crossing_2012['state'] == 'Texas')]\n",
    "vermont_2012 = crossing_2012[(crossing_2012['state'] == 'Vermont')]\n",
    "washington_2012 = crossing_2012[(crossing_2012['state'] == 'Washington')]\n",
    "\n",
    "#counts for each:\n",
    "print('Alaska 2012: ', alaska_2012.value.sum())\n",
    "print('Arizona 2012: ', arizona_2012.value.sum())\n",
    "print('California 2012: ', california_2012.value.sum())\n",
    "print('Idaho 2012: ', idaho_2012.value.sum()) \n",
    "print('Maine 2012: ', maine_2012.value.sum())\n",
    "print('Michigan 2012: ', michigan_2012.value.sum())\n",
    "print('Minnesota 2012: ', minnesota_2012.value.sum())\n",
    "print('Montana 2012: ', montana_2012.value.sum())\n",
    "print('New Mexico 2012: ', new_mexico_2012.value.sum())\n",
    "print('New York 2012: ', new_york_2012.value.sum())\n",
    "print('North Dakota 2012: ', north_dakota_2012.value.sum())\n",
    "print('Texas 2012: ', texas_2012.value.sum())\n",
    "print('Vermont 2012: ', vermont_2012.value.sum())\n",
    "print('Washington 2012: ', washington_2012.value.sum())"
   ]
  },
  {
   "cell_type": "code",
   "execution_count": 112,
   "metadata": {
    "colab": {
     "base_uri": "https://localhost:8080/",
     "height": 255
    },
    "colab_type": "code",
    "id": "j_A9HHYiRGBf",
    "outputId": "853fcf04-42c2-40f6-9bb3-c46d6b1f7aca"
   },
   "outputs": [
    {
     "name": "stdout",
     "output_type": "stream",
     "text": [
      "Alaska 2018:  601180\n",
      "Arizona 2018:  25118397\n",
      "California 2018:  77014963\n",
      "Idaho 2018:  433728\n",
      "Maine 2018:  3358350\n",
      "Michigan 2018:  11242481\n",
      "Minnesota 2018:  1763410\n",
      "Montana 2018:  1176939\n",
      "New Mexico 2018:  2376125\n",
      "New York 2018:  17864580\n",
      "North Dakota 2018:  1276743\n",
      "Texas 2018:  88404201\n",
      "Vermont 2018:  2492973\n",
      "Washington 2018:  13821856\n"
     ]
    }
   ],
   "source": [
    "#And splitting off the 2018 states:\n",
    "alaska_2018 = crossing_2018[(crossing_2018['state'] == 'Alaska')]\n",
    "arizona_2018 = crossing_2018[(crossing_2018['state'] == 'Arizona')]\n",
    "california_2018 = crossing_2018[(crossing_2018['state'] == 'California')]\n",
    "idaho_2018 = crossing_2018[(crossing_2018['state'] == 'Idaho')]\n",
    "maine_2018 = crossing_2018[(crossing_2018['state'] == 'Maine')]\n",
    "michigan_2018 = crossing_2018[(crossing_2018['state'] == 'Michigan')]\n",
    "minnesota_2018 = crossing_2018[(crossing_2018['state'] == 'Minnesota')]\n",
    "montana_2018 = crossing_2018[(crossing_2018['state'] == 'Montana')]\n",
    "new_mexico_2018 = crossing_2018[(crossing_2018['state'] == 'New Mexico')]\n",
    "new_york_2018 = crossing_2018[(crossing_2018['state'] == 'New York')]\n",
    "north_dakota_2018 = crossing_2018[(crossing_2018['state'] == 'North Dakota')]\n",
    "texas_2018 = crossing_2018[(crossing_2018['state'] == 'Texas')]\n",
    "vermont_2018 = crossing_2018[(crossing_2018['state'] == 'Vermont')]\n",
    "washington_2018 = crossing_2018[(crossing_2018['state'] == 'Washington')]\n",
    "\n",
    "#And counts for each:\n",
    "print('Alaska 2018: ', alaska_2018.value.sum())\n",
    "print('Arizona 2018: ', arizona_2018.value.sum())\n",
    "print('California 2018: ', california_2018.value.sum())\n",
    "print('Idaho 2018: ', idaho_2018.value.sum()) \n",
    "print('Maine 2018: ', maine_2018.value.sum())\n",
    "print('Michigan 2018: ', michigan_2018.value.sum())\n",
    "print('Minnesota 2018: ', minnesota_2018.value.sum())\n",
    "print('Montana 2018: ', montana_2018.value.sum())\n",
    "print('New Mexico 2018: ', new_mexico_2018.value.sum())\n",
    "print('New York 2018: ', new_york_2018.value.sum())\n",
    "print('North Dakota 2018: ', north_dakota_2018.value.sum())\n",
    "print('Texas 2018: ', texas_2018.value.sum())\n",
    "print('Vermont 2018: ', vermont_2018.value.sum())\n",
    "print('Washington 2018: ', washington_2018.value.sum())"
   ]
  },
  {
   "cell_type": "code",
   "execution_count": 113,
   "metadata": {
    "colab": {
     "base_uri": "https://localhost:8080/",
     "height": 34
    },
    "colab_type": "code",
    "id": "EHxSQNjMRQLW",
    "outputId": "d9394ebb-a9fa-45cd-f1b6-2ca6a70118de"
   },
   "outputs": [
    {
     "data": {
      "text/plain": [
       "MannwhitneyuResult(statistic=5724.0, pvalue=7.18438214265437e-11)"
      ]
     },
     "execution_count": 113,
     "metadata": {
      "tags": []
     },
     "output_type": "execute_result"
    }
   ],
   "source": [
    "#Using Mann Whitney U, starting with Alaska:\n",
    "stats.mannwhitneyu(alaska_2012['value'], alaska_2018['value'])"
   ]
  },
  {
   "cell_type": "code",
   "execution_count": 114,
   "metadata": {
    "colab": {
     "base_uri": "https://localhost:8080/",
     "height": 357
    },
    "colab_type": "code",
    "id": "ZPlXEwLDxorD",
    "outputId": "7001408f-2492-43af-cbb6-c52c93ccd856"
   },
   "outputs": [
    {
     "name": "stdout",
     "output_type": "stream",
     "text": [
      "Dataframe 1 Aggregated Stats:\n",
      "col_sum    475967.000000\n",
      "median         13.000000\n",
      "std          6668.745987\n",
      "Name: value, dtype: float64\n",
      "\n",
      "\n",
      "Dataframe 2 Aggregated Stats:\n",
      "col_sum    601180.000000\n",
      "median        448.000000\n",
      "std         11025.979537\n",
      "Name: value, dtype: float64\n",
      "Difference between Medians: \n",
      "-435.0\n",
      "Difference between Standard Deviations: \n",
      "-4322.978531040053\n",
      "Difference between Sums: \n",
      "-125213\n",
      "95% Confidence Interval: \n",
      "[[-458.94497784665816], [-411.05502215334184]]\n"
     ]
    }
   ],
   "source": [
    "#95% CI for Alaska:\n",
    "print(ci95_mwu(alaska_2012['value'], alaska_2018['value']))"
   ]
  },
  {
   "cell_type": "markdown",
   "metadata": {
    "colab_type": "text",
    "id": "geBWN6QtRmPv"
   },
   "source": [
    "There is a significant difference between Alaska's border crossings in 2012 and 2018 (p < .001). We can reject the null hypothesis here.\n",
    "\n",
    "At the 95% confidence level, the median difference between crossings in Alaska in 2012 and in 2018 is between -459 and -411.\n",
    "\n",
    "That is, Alaska's median crossings in 2012 are between 459 and 411 crossings lower than in 2018."
   ]
  },
  {
   "cell_type": "code",
   "execution_count": 115,
   "metadata": {
    "colab": {
     "base_uri": "https://localhost:8080/",
     "height": 34
    },
    "colab_type": "code",
    "id": "hkCRxqOCnITq",
    "outputId": "564631d5-6635-4863-98c2-a4459402e9fe"
   },
   "outputs": [
    {
     "data": {
      "text/plain": [
       "MannwhitneyuResult(statistic=20390.0, pvalue=5.839717040162219e-10)"
      ]
     },
     "execution_count": 115,
     "metadata": {
      "tags": []
     },
     "output_type": "execute_result"
    }
   ],
   "source": [
    "stats.mannwhitneyu(arizona_2012['value'], arizona_2018['value'])"
   ]
  },
  {
   "cell_type": "code",
   "execution_count": 116,
   "metadata": {
    "colab": {
     "base_uri": "https://localhost:8080/",
     "height": 357
    },
    "colab_type": "code",
    "id": "KR3kNsqC2Gme",
    "outputId": "bb02c4ab-ee2f-4947-94d7-9b03384ceb99"
   },
   "outputs": [
    {
     "name": "stdout",
     "output_type": "stream",
     "text": [
      "Dataframe 1 Aggregated Stats:\n",
      "col_sum    2.124885e+07\n",
      "median     1.887500e+03\n",
      "std        1.335642e+05\n",
      "Name: value, dtype: float64\n",
      "\n",
      "\n",
      "Dataframe 2 Aggregated Stats:\n",
      "col_sum    2.511840e+07\n",
      "median     1.517900e+04\n",
      "std        1.800877e+05\n",
      "Name: value, dtype: float64\n",
      "Difference between Medians: \n",
      "-13291.5\n",
      "Difference between Standard Deviations: \n",
      "-46322.15052589707\n",
      "Difference between Sums: \n",
      "-3869545\n",
      "95% Confidence Interval: \n",
      "[[-13337.654583270263], [-13245.345416729737]]\n"
     ]
    }
   ],
   "source": [
    "#95% CI for Arizona:\n",
    "print(ci95_mwu(arizona_2012['value'], arizona_2018['value']))"
   ]
  },
  {
   "cell_type": "markdown",
   "metadata": {
    "colab_type": "text",
    "id": "DBORmCqon18y"
   },
   "source": [
    "There is a significant difference between Arizona's border crossings in 2012 and 2018 (p < .001). We can reject the null hypothesis.\n",
    "\n",
    "At the 95% confidence level, the median difference between crossings in Arizona in  2012 and in 2018 is between -13,338 and -13,245.\n",
    "\n",
    "That is, Arizon'a median crossings in 2012 are between 13,338 and 13,245 crossings lower than in 2018."
   ]
  },
  {
   "cell_type": "code",
   "execution_count": 117,
   "metadata": {
    "colab": {
     "base_uri": "https://localhost:8080/",
     "height": 34
    },
    "colab_type": "code",
    "id": "uifhj6LBoAqY",
    "outputId": "882b053f-511b-45da-a4e2-b542f6575ad7"
   },
   "outputs": [
    {
     "data": {
      "text/plain": [
       "MannwhitneyuResult(statistic=21972.0, pvalue=1.1933919057559527e-08)"
      ]
     },
     "execution_count": 117,
     "metadata": {
      "tags": []
     },
     "output_type": "execute_result"
    }
   ],
   "source": [
    "stats.mannwhitneyu(california_2012['value'], california_2018['value'])"
   ]
  },
  {
   "cell_type": "code",
   "execution_count": 118,
   "metadata": {
    "colab": {
     "base_uri": "https://localhost:8080/",
     "height": 357
    },
    "colab_type": "code",
    "id": "PZIl1Z-f3f50",
    "outputId": "bfefcd96-6d10-4e34-eab4-53e0d834f11a"
   },
   "outputs": [
    {
     "name": "stdout",
     "output_type": "stream",
     "text": [
      "Dataframe 1 Aggregated Stats:\n",
      "col_sum    6.307879e+07\n",
      "median     3.377550e+04\n",
      "std        3.827563e+05\n",
      "Name: value, dtype: float64\n",
      "\n",
      "\n",
      "Dataframe 2 Aggregated Stats:\n",
      "col_sum    7.701496e+07\n",
      "median     9.705800e+04\n",
      "std        5.308159e+05\n",
      "Name: value, dtype: float64\n",
      "Difference between Medians: \n",
      "-63282.5\n",
      "Difference between Standard Deviations: \n",
      "-147488.78547178302\n",
      "Difference between Sums: \n",
      "-13936170\n",
      "95% Confidence Interval: \n",
      "[[-63359.93607878043], [-63205.06392121957]]\n"
     ]
    }
   ],
   "source": [
    "#95% CI for California:\n",
    "print(ci95_mwu(california_2012['value'], california_2018['value']))"
   ]
  },
  {
   "cell_type": "markdown",
   "metadata": {
    "colab_type": "text",
    "id": "-oUVP2Z5oKKK"
   },
   "source": [
    "There is a significant difference between California's border crossings in 2012 and 2018 (p < .001). We can reject the null hypothesis.\n",
    "\n",
    "At the 95% confidence level, the median difference between crossings in California in 2012 and in 2018 is between -63,360 and -63,205.\n",
    "\n",
    "That is, California's median crossings in 2012 are between 63,360 and 63,205 crossings lower than in 2018."
   ]
  },
  {
   "cell_type": "code",
   "execution_count": 119,
   "metadata": {
    "colab": {
     "base_uri": "https://localhost:8080/",
     "height": 34
    },
    "colab_type": "code",
    "id": "K8PayzXnoZGj",
    "outputId": "b52f8f75-4250-4ab8-f198-1b92a81f9671"
   },
   "outputs": [
    {
     "data": {
      "text/plain": [
       "MannwhitneyuResult(statistic=3353.5, pvalue=0.11885786247592184)"
      ]
     },
     "execution_count": 119,
     "metadata": {
      "tags": []
     },
     "output_type": "execute_result"
    }
   ],
   "source": [
    "stats.mannwhitneyu(idaho_2012['value'], idaho_2018['value'])"
   ]
  },
  {
   "cell_type": "code",
   "execution_count": 120,
   "metadata": {
    "colab": {
     "base_uri": "https://localhost:8080/",
     "height": 357
    },
    "colab_type": "code",
    "id": "e7mkavy84cnA",
    "outputId": "75648dd0-f469-4aa2-813d-14ff09e200f8"
   },
   "outputs": [
    {
     "name": "stdout",
     "output_type": "stream",
     "text": [
      "Dataframe 1 Aggregated Stats:\n",
      "col_sum    525697.000000\n",
      "median        196.000000\n",
      "std         10602.265489\n",
      "Name: value, dtype: float64\n",
      "\n",
      "\n",
      "Dataframe 2 Aggregated Stats:\n",
      "col_sum    433728.000000\n",
      "median        210.000000\n",
      "std          9580.695712\n",
      "Name: value, dtype: float64\n",
      "Difference between Medians: \n",
      "-14.0\n",
      "Difference between Standard Deviations: \n",
      "1027.8179187897076\n",
      "Difference between Sums: \n",
      "91969\n",
      "95% Confidence Interval: \n",
      "[[-7.357194692029714], [-20.642805307970285]]\n"
     ]
    }
   ],
   "source": [
    "#Getting 95% CI for Idaho:\n",
    "print(ci95_mwu(idaho_2012['value'], idaho_2018['value']))"
   ]
  },
  {
   "cell_type": "markdown",
   "metadata": {
    "colab_type": "text",
    "id": "3gc9U9dJogqN"
   },
   "source": [
    "There is not a significant difference between Idaho's border crossings in 2012 and 2018. We'll fail to reject the null hypothesis.\n",
    "\n",
    "However, at the 95% confidence level, the median difference between crossings in Idaho in 2012 and in 2018 is between -7.36 and -20.64.\n",
    "\n",
    "That is, Idaho's median crossings in 2012 are between 7.36 and 20.64 crossings lower than in 2018."
   ]
  },
  {
   "cell_type": "code",
   "execution_count": 121,
   "metadata": {
    "colab": {
     "base_uri": "https://localhost:8080/",
     "height": 34
    },
    "colab_type": "code",
    "id": "aLxNLJIiomcC",
    "outputId": "b067a2cf-8ff4-40d0-8508-5f3dfb6d6fa0"
   },
   "outputs": [
    {
     "data": {
      "text/plain": [
       "MannwhitneyuResult(statistic=60561.0, pvalue=2.0025373147986453e-15)"
      ]
     },
     "execution_count": 121,
     "metadata": {
      "tags": []
     },
     "output_type": "execute_result"
    }
   ],
   "source": [
    "stats.mannwhitneyu(maine_2012['value'], maine_2018['value'])"
   ]
  },
  {
   "cell_type": "code",
   "execution_count": 122,
   "metadata": {
    "colab": {
     "base_uri": "https://localhost:8080/",
     "height": 357
    },
    "colab_type": "code",
    "id": "H0QbqH8k6FHN",
    "outputId": "a427c6ca-658e-45df-d8bd-54ab37ae398f"
   },
   "outputs": [
    {
     "name": "stdout",
     "output_type": "stream",
     "text": [
      "Dataframe 1 Aggregated Stats:\n",
      "col_sum    4.999254e+06\n",
      "median     3.250000e+01\n",
      "std        2.520636e+04\n",
      "Name: value, dtype: float64\n",
      "\n",
      "\n",
      "Dataframe 2 Aggregated Stats:\n",
      "col_sum    3.358350e+06\n",
      "median     3.530000e+02\n",
      "std        2.080349e+04\n",
      "Name: value, dtype: float64\n",
      "Difference between Medians: \n",
      "-320.5\n",
      "Difference between Standard Deviations: \n",
      "4410.058767274884\n",
      "Difference between Sums: \n",
      "1640904\n",
      "95% Confidence Interval: \n",
      "[[-313.7522519042111], [-327.2477480957889]]\n"
     ]
    }
   ],
   "source": [
    "#95% CI for Maine:\n",
    "print(ci95_mwu(maine_2012['value'], maine_2018['value']))"
   ]
  },
  {
   "cell_type": "markdown",
   "metadata": {
    "colab_type": "text",
    "id": "6D4hSoW9ouFS"
   },
   "source": [
    "There is a significant difference between Maine's border crossings in 2012 and 2018 (p < .001). We can reject the null hypothesis.\n",
    "\n",
    "At the 95% confidence level, the median difference between crossings in Maine in 2012 and in 2018 is between -314 and -327.\n",
    "\n",
    "That is, Maine's median border crossings in 2012 are between 314 and 327 crossings lower than in 2018."
   ]
  },
  {
   "cell_type": "code",
   "execution_count": 123,
   "metadata": {
    "colab": {
     "base_uri": "https://localhost:8080/",
     "height": 34
    },
    "colab_type": "code",
    "id": "PMURRbMTo867",
    "outputId": "2cc9e9e4-de80-4ff5-be5e-631f84301f29"
   },
   "outputs": [
    {
     "data": {
      "text/plain": [
       "MannwhitneyuResult(statistic=6763.0, pvalue=0.029780053413714192)"
      ]
     },
     "execution_count": 123,
     "metadata": {
      "tags": []
     },
     "output_type": "execute_result"
    }
   ],
   "source": [
    "stats.mannwhitneyu(michigan_2012['value'], michigan_2018['value'])"
   ]
  },
  {
   "cell_type": "code",
   "execution_count": 124,
   "metadata": {
    "colab": {
     "base_uri": "https://localhost:8080/",
     "height": 357
    },
    "colab_type": "code",
    "id": "OwP8bbLoj--t",
    "outputId": "f3ec0b55-d14d-473c-a165-8c906e0c2931"
   },
   "outputs": [
    {
     "name": "stdout",
     "output_type": "stream",
     "text": [
      "Dataframe 1 Aggregated Stats:\n",
      "col_sum    1.352473e+07\n",
      "median     2.545000e+03\n",
      "std        1.848444e+05\n",
      "Name: value, dtype: float64\n",
      "\n",
      "\n",
      "Dataframe 2 Aggregated Stats:\n",
      "col_sum    1.124248e+07\n",
      "median     4.447000e+03\n",
      "std        1.833698e+05\n",
      "Name: value, dtype: float64\n",
      "Difference between Medians: \n",
      "-1902.0\n",
      "Difference between Standard Deviations: \n",
      "1674.748444202327\n",
      "Difference between Sums: \n",
      "2282245\n",
      "95% Confidence Interval: \n",
      "[[-1899.827176137152], [-1904.172823862848]]\n"
     ]
    }
   ],
   "source": [
    "#Getting 95% CI for Michigan:\n",
    "print(ci95_mwu(michigan_2012['value'], michigan_2018['value']))"
   ]
  },
  {
   "cell_type": "markdown",
   "metadata": {
    "colab_type": "text",
    "id": "lguDJgkCpEbG"
   },
   "source": [
    "There is a a significant difference between Michigan's amount of crossings in 2012 and 2018 (p < .05). \n",
    "\n",
    "At the 95% confidence level, the median difference between crossings in Michigan in 2012 and in 2018 is between -1900 and -1904.\n",
    "\n",
    "That is, Michigan's median border crossings in 2012 are between 1900 and 1904 crossings lower than in 2018."
   ]
  },
  {
   "cell_type": "code",
   "execution_count": 125,
   "metadata": {
    "colab": {
     "base_uri": "https://localhost:8080/",
     "height": 34
    },
    "colab_type": "code",
    "id": "HCTswv0NpPgv",
    "outputId": "6f8744b6-31da-4026-da54-c0d4a5450a12"
   },
   "outputs": [
    {
     "data": {
      "text/plain": [
       "MannwhitneyuResult(statistic=18981.5, pvalue=6.293169855127685e-13)"
      ]
     },
     "execution_count": 125,
     "metadata": {
      "tags": []
     },
     "output_type": "execute_result"
    }
   ],
   "source": [
    "stats.mannwhitneyu(minnesota_2012['value'], minnesota_2018['value'])"
   ]
  },
  {
   "cell_type": "code",
   "execution_count": 126,
   "metadata": {
    "colab": {
     "base_uri": "https://localhost:8080/",
     "height": 357
    },
    "colab_type": "code",
    "id": "pZFy95bdrK8m",
    "outputId": "bb6dc66f-b84e-40a0-e46f-a0300592098b"
   },
   "outputs": [
    {
     "name": "stdout",
     "output_type": "stream",
     "text": [
      "Dataframe 1 Aggregated Stats:\n",
      "col_sum    2.117841e+06\n",
      "median     1.340000e+02\n",
      "std        1.620283e+04\n",
      "Name: value, dtype: float64\n",
      "\n",
      "\n",
      "Dataframe 2 Aggregated Stats:\n",
      "col_sum    1.763410e+06\n",
      "median     8.210000e+02\n",
      "std        1.757953e+04\n",
      "Name: value, dtype: float64\n",
      "Difference between Medians: \n",
      "-687.0\n",
      "Difference between Standard Deviations: \n",
      "-1352.197983722619\n",
      "Difference between Sums: \n",
      "354431\n",
      "95% Confidence Interval: \n",
      "[[-691.4517473140565], [-682.5482526859435]]\n"
     ]
    }
   ],
   "source": [
    "#95% Ci for Minnesota:\n",
    "print(ci95_mwu(minnesota_2012['value'], minnesota_2018['value']))"
   ]
  },
  {
   "cell_type": "markdown",
   "metadata": {
    "colab_type": "text",
    "id": "6b7yWdEzpblL"
   },
   "source": [
    "There is a significant difference between Minnesota's border crossings in 2012 and 2018 (p < .001). We can reject the null hypothesis.\n",
    "\n",
    "At the 95% confidence level, the median difference between crossings in Minnesota in 2012 and in 2018 is between -691 and -683.\n",
    "\n",
    "That is, Minnesota's median border crossings in 2012 are between 691 and 682 crossings lower than in 2018.\n"
   ]
  },
  {
   "cell_type": "code",
   "execution_count": 127,
   "metadata": {
    "colab": {
     "base_uri": "https://localhost:8080/",
     "height": 34
    },
    "colab_type": "code",
    "id": "_Sz55jimpoNF",
    "outputId": "6e1434db-b3dd-4ec5-d52d-3f2adffdbaa1"
   },
   "outputs": [
    {
     "data": {
      "text/plain": [
       "MannwhitneyuResult(statistic=32674.0, pvalue=5.5194972212723396e-43)"
      ]
     },
     "execution_count": 127,
     "metadata": {
      "tags": []
     },
     "output_type": "execute_result"
    }
   ],
   "source": [
    "stats.mannwhitneyu(montana_2012['value'], montana_2018['value'])"
   ]
  },
  {
   "cell_type": "code",
   "execution_count": 128,
   "metadata": {
    "colab": {
     "base_uri": "https://localhost:8080/",
     "height": 357
    },
    "colab_type": "code",
    "id": "bEatzlU9rrOx",
    "outputId": "a5cc6a80-3a03-4e16-db86-f0561c59a2c3"
   },
   "outputs": [
    {
     "name": "stdout",
     "output_type": "stream",
     "text": [
      "Dataframe 1 Aggregated Stats:\n",
      "col_sum    1.329780e+06\n",
      "median     0.000000e+00\n",
      "std        7.974960e+03\n",
      "Name: value, dtype: float64\n",
      "\n",
      "\n",
      "Dataframe 2 Aggregated Stats:\n",
      "col_sum    1.176939e+06\n",
      "median     4.770000e+02\n",
      "std        1.092931e+04\n",
      "Name: value, dtype: float64\n",
      "Difference between Medians: \n",
      "-477.0\n",
      "Difference between Standard Deviations: \n",
      "-2938.4127605584526\n",
      "Difference between Sums: \n",
      "152841\n",
      "95% Confidence Interval: \n",
      "[[-491.7315667335425], [-462.2684332664575]]\n"
     ]
    }
   ],
   "source": [
    "#95% CI for Montana:\n",
    "print(ci95_mwu(montana_2012['value'], montana_2018['value']))"
   ]
  },
  {
   "cell_type": "markdown",
   "metadata": {
    "colab_type": "text",
    "id": "BPoGHxS5pt8d"
   },
   "source": [
    "There is a significant difference between Montana's border crossings in 2012 and 2018 (p < .001). We can reject the null hypothesis.\n",
    "\n",
    "At the 95% confidence level, the median difference between crossings in Montana in 2012 and in 2018 is between -492 and -462.\n",
    "\n",
    "That is, Montana's median border crossings in 2012 are between 492 and 462 crossings lower than in 2018."
   ]
  },
  {
   "cell_type": "code",
   "execution_count": 129,
   "metadata": {
    "colab": {
     "base_uri": "https://localhost:8080/",
     "height": 34
    },
    "colab_type": "code",
    "id": "oHg9oksup9rq",
    "outputId": "e5e755eb-df75-40de-d260-7e8ad6e1a7b4"
   },
   "outputs": [
    {
     "data": {
      "text/plain": [
       "MannwhitneyuResult(statistic=2391.5, pvalue=0.0003186078761123579)"
      ]
     },
     "execution_count": 129,
     "metadata": {
      "tags": []
     },
     "output_type": "execute_result"
    }
   ],
   "source": [
    "stats.mannwhitneyu(new_mexico_2012['value'], new_mexico_2018['value'])"
   ]
  },
  {
   "cell_type": "code",
   "execution_count": 130,
   "metadata": {
    "colab": {
     "base_uri": "https://localhost:8080/",
     "height": 357
    },
    "colab_type": "code",
    "id": "b7jtxox6uP4N",
    "outputId": "ec7f27fb-9581-4131-cd91-1e560f889446"
   },
   "outputs": [
    {
     "name": "stdout",
     "output_type": "stream",
     "text": [
      "Dataframe 1 Aggregated Stats:\n",
      "col_sum    1.835195e+06\n",
      "median     4.073000e+03\n",
      "std        2.633495e+04\n",
      "Name: value, dtype: float64\n",
      "\n",
      "\n",
      "Dataframe 2 Aggregated Stats:\n",
      "col_sum    2.376125e+06\n",
      "median     1.936000e+04\n",
      "std        3.674514e+04\n",
      "Name: value, dtype: float64\n",
      "Difference between Medians: \n",
      "-15287.0\n",
      "Difference between Standard Deviations: \n",
      "-10291.641569448973\n",
      "Difference between Sums: \n",
      "-540930\n",
      "95% Confidence Interval: \n",
      "[[-15314.42648740847], [-15259.57351259153]]\n"
     ]
    }
   ],
   "source": [
    "#95% CI for New Mexico:\n",
    "print(ci95_mwu(new_mexico_2012['value'], new_mexico_2018['value']))"
   ]
  },
  {
   "cell_type": "markdown",
   "metadata": {
    "colab_type": "text",
    "id": "jUlXf0a_qFT-"
   },
   "source": [
    "There is a significant difference between New Mexico's border crossings in 2012 and 2018 (p < .001). We can reject the null hypothesis.\n",
    "\n",
    "At the 95% confidence level, the median difference between crossings in New Mexico in 2012 and in 2018 is between -15,314 and -15,259.\n",
    "\n",
    "That is, New Mexico's median border crossings in 2012 are between 15,314 and 15,259 crossings lower than in 2018."
   ]
  },
  {
   "cell_type": "code",
   "execution_count": 131,
   "metadata": {
    "colab": {
     "base_uri": "https://localhost:8080/",
     "height": 34
    },
    "colab_type": "code",
    "id": "9pywa-S1qOS1",
    "outputId": "b82c96ce-9d9c-49c1-8a7a-73fe569cdfcb"
   },
   "outputs": [
    {
     "data": {
      "text/plain": [
       "MannwhitneyuResult(statistic=23807.5, pvalue=5.424910879172281e-12)"
      ]
     },
     "execution_count": 131,
     "metadata": {
      "tags": []
     },
     "output_type": "execute_result"
    }
   ],
   "source": [
    "stats.mannwhitneyu(new_york_2012['value'], new_york_2018['value'])"
   ]
  },
  {
   "cell_type": "code",
   "execution_count": 132,
   "metadata": {
    "colab": {
     "base_uri": "https://localhost:8080/",
     "height": 357
    },
    "colab_type": "code",
    "id": "oBxU3BpNxegJ",
    "outputId": "205d70ba-506b-4db6-ce8b-a3568fc0dafc"
   },
   "outputs": [
    {
     "name": "stdout",
     "output_type": "stream",
     "text": [
      "Dataframe 1 Aggregated Stats:\n",
      "col_sum    2.150158e+07\n",
      "median     5.430000e+02\n",
      "std        2.109270e+05\n",
      "Name: value, dtype: float64\n",
      "\n",
      "\n",
      "Dataframe 2 Aggregated Stats:\n",
      "col_sum    1.786458e+07\n",
      "median     6.812000e+03\n",
      "std        2.130597e+05\n",
      "Name: value, dtype: float64\n",
      "Difference between Medians: \n",
      "-6269.0\n",
      "Difference between Standard Deviations: \n",
      "-1950.7298085278308\n",
      "Difference between Sums: \n",
      "3636999\n",
      "95% Confidence Interval: \n",
      "[[-6271.004848688958], [-6266.995151311042]]\n"
     ]
    }
   ],
   "source": [
    "#95% CI for New York:\n",
    "print(ci95_mwu(new_york_2012['value'], new_york_2018['value']))"
   ]
  },
  {
   "cell_type": "markdown",
   "metadata": {
    "colab_type": "text",
    "id": "uXJoiNrrqUSw"
   },
   "source": [
    "There is a significant difference between New York's border crossings in 2012 and 2018 (p < .001). We can reject the null hypothesis.\n",
    "\n",
    "At the 95% confidence level, the median difference between crossings in New York in 2012 and in 2018 is between -6271 and -6267.\n",
    "\n",
    "That is, New York's median border crossings in 2012 are between 6271 and 6267 crossings lower than in 2018."
   ]
  },
  {
   "cell_type": "code",
   "execution_count": 133,
   "metadata": {
    "colab": {
     "base_uri": "https://localhost:8080/",
     "height": 34
    },
    "colab_type": "code",
    "id": "JgiPQDChqlYq",
    "outputId": "e793be4a-da6a-4cee-d5b9-721b1797f1ab"
   },
   "outputs": [
    {
     "data": {
      "text/plain": [
       "MannwhitneyuResult(statistic=69050.5, pvalue=2.3878879161403424e-55)"
      ]
     },
     "execution_count": 133,
     "metadata": {
      "tags": []
     },
     "output_type": "execute_result"
    }
   ],
   "source": [
    "stats.mannwhitneyu(north_dakota_2012['value'], north_dakota_2018['value'])"
   ]
  },
  {
   "cell_type": "code",
   "execution_count": 134,
   "metadata": {
    "colab": {
     "base_uri": "https://localhost:8080/",
     "height": 357
    },
    "colab_type": "code",
    "id": "OlQL0DOZx3YW",
    "outputId": "aa83c91d-81ca-41ad-ca87-39d5931d1048"
   },
   "outputs": [
    {
     "name": "stdout",
     "output_type": "stream",
     "text": [
      "Dataframe 1 Aggregated Stats:\n",
      "col_sum    1.785340e+06\n",
      "median     0.000000e+00\n",
      "std        8.816152e+03\n",
      "Name: value, dtype: float64\n",
      "\n",
      "\n",
      "Dataframe 2 Aggregated Stats:\n",
      "col_sum    1.276743e+06\n",
      "median     1.048000e+03\n",
      "std        9.661512e+03\n",
      "Name: value, dtype: float64\n",
      "Difference between Medians: \n",
      "-1048.0\n",
      "Difference between Standard Deviations: \n",
      "-836.7683270343587\n",
      "Difference between Sums: \n",
      "508597\n",
      "95% Confidence Interval: \n",
      "[[-1050.299717062424], [-1045.700282937576]]\n"
     ]
    }
   ],
   "source": [
    "#95% CI for North Dakota:\n",
    "print(ci95_mwu(north_dakota_2012['value'], north_dakota_2018['value']))"
   ]
  },
  {
   "cell_type": "markdown",
   "metadata": {
    "colab_type": "text",
    "id": "2z72VLIlqryI"
   },
   "source": [
    "There is a significant difference between North Dakota's border crossings in 2012 and 2018 (p < .001). We can reject the null hypothesis.\n",
    "\n",
    "At the 95% confidence level, the median difference between crossings in North Dakota in 2012 and in 2018 is between -1050 and -1046.\n",
    "\n",
    "That is, North Dakota's median border crossings in 2012 are between 1050 and 1046 crossings lower than in 2018."
   ]
  },
  {
   "cell_type": "code",
   "execution_count": 135,
   "metadata": {
    "colab": {
     "base_uri": "https://localhost:8080/",
     "height": 34
    },
    "colab_type": "code",
    "id": "W9Tq5u9Gq6Hy",
    "outputId": "1f5e96c1-d0a3-425e-cc6c-74a6e4c94cab"
   },
   "outputs": [
    {
     "data": {
      "text/plain": [
       "MannwhitneyuResult(statistic=65324.0, pvalue=1.628184713253998e-17)"
      ]
     },
     "execution_count": 135,
     "metadata": {
      "tags": []
     },
     "output_type": "execute_result"
    }
   ],
   "source": [
    "stats.mannwhitneyu(texas_2012['value'], texas_2018['value'])"
   ]
  },
  {
   "cell_type": "code",
   "execution_count": 136,
   "metadata": {
    "colab": {
     "base_uri": "https://localhost:8080/",
     "height": 357
    },
    "colab_type": "code",
    "id": "FXiupTkB7CGa",
    "outputId": "0b5b7ded-6125-452f-d294-5ffa67f4bb6a"
   },
   "outputs": [
    {
     "name": "stdout",
     "output_type": "stream",
     "text": [
      "Dataframe 1 Aggregated Stats:\n",
      "col_sum    7.289834e+07\n",
      "median     7.195500e+03\n",
      "std        2.714277e+05\n",
      "Name: value, dtype: float64\n",
      "\n",
      "\n",
      "Dataframe 2 Aggregated Stats:\n",
      "col_sum    8.840420e+07\n",
      "median     6.937100e+04\n",
      "std        3.924452e+05\n",
      "Name: value, dtype: float64\n",
      "Difference between Medians: \n",
      "-62175.5\n",
      "Difference between Standard Deviations: \n",
      "-120742.57542605075\n",
      "Difference between Sums: \n",
      "-15505860\n",
      "95% Confidence Interval: \n",
      "[[-62235.59918424974], [-62115.40081575026]]\n"
     ]
    }
   ],
   "source": [
    "#95% Ci for Texas:\n",
    "print(ci95_mwu(texas_2012['value'], texas_2018['value']))"
   ]
  },
  {
   "cell_type": "markdown",
   "metadata": {
    "colab_type": "text",
    "id": "PBu76mRZrBIQ"
   },
   "source": [
    "There is a significant difference between Texas's border crossings in 2012 and 2018 (p < .001). We can reject the null hypothesis.\n",
    "\n",
    "At the 95% confidence level, the median difference between crossings in Texas in 2012 and in 2018 is between -62,236 and -62,115.\n",
    "\n",
    "That is, Texas's median border crossings in 2012 are between 62,236 and 62,115 crossings lower than in 2018."
   ]
  },
  {
   "cell_type": "code",
   "execution_count": 137,
   "metadata": {
    "colab": {
     "base_uri": "https://localhost:8080/",
     "height": 34
    },
    "colab_type": "code",
    "id": "aoJMMyxNrTEi",
    "outputId": "26c3acb0-f60c-4bc6-f33f-463d491afa20"
   },
   "outputs": [
    {
     "data": {
      "text/plain": [
       "MannwhitneyuResult(statistic=12775.0, pvalue=5.850527939398743e-06)"
      ]
     },
     "execution_count": 137,
     "metadata": {
      "tags": []
     },
     "output_type": "execute_result"
    }
   ],
   "source": [
    "stats.mannwhitneyu(vermont_2012['value'], vermont_2018['value'])"
   ]
  },
  {
   "cell_type": "code",
   "execution_count": 138,
   "metadata": {
    "colab": {
     "base_uri": "https://localhost:8080/",
     "height": 357
    },
    "colab_type": "code",
    "id": "pMNT_Qxg76dZ",
    "outputId": "6f056dc5-ab67-4b65-8820-fe00256648e5"
   },
   "outputs": [
    {
     "name": "stdout",
     "output_type": "stream",
     "text": [
      "Dataframe 1 Aggregated Stats:\n",
      "col_sum    2.909013e+06\n",
      "median     4.050000e+01\n",
      "std        2.986207e+04\n",
      "Name: value, dtype: float64\n",
      "\n",
      "\n",
      "Dataframe 2 Aggregated Stats:\n",
      "col_sum    2.492973e+06\n",
      "median     3.989000e+03\n",
      "std        3.308413e+04\n",
      "Name: value, dtype: float64\n",
      "Difference between Medians: \n",
      "-3948.5\n",
      "Difference between Standard Deviations: \n",
      "-3170.0589422481353\n",
      "Difference between Sums: \n",
      "416040\n",
      "95% Confidence Interval: \n",
      "[[-3958.132873670786], [-3938.867126329214]]\n"
     ]
    }
   ],
   "source": [
    "#95% CI for Vermont:\n",
    "print(ci95_mwu(vermont_2012['value'], vermont_2018['value']))"
   ]
  },
  {
   "cell_type": "markdown",
   "metadata": {
    "colab_type": "text",
    "id": "QEUIkgBMrYfa"
   },
   "source": [
    "There is a significant difference between Vermont's border crossings in 2012 and 2018 (p < .001). We can reject the null hypothesis.\n",
    "\n",
    "At the 95% confidence level, the median difference between crossings in Vermont in 2012 and in 2018 is between -3958 and -3939.\n",
    "\n",
    "That is, Vermont's median border crossings in 2012 are between 3958 and 3939 crossings lower than in 2018."
   ]
  },
  {
   "cell_type": "code",
   "execution_count": 139,
   "metadata": {
    "colab": {
     "base_uri": "https://localhost:8080/",
     "height": 34
    },
    "colab_type": "code",
    "id": "WUkNbH_KrlHc",
    "outputId": "e5e85e6b-3061-4a5b-e0af-c2e667a2c8ec"
   },
   "outputs": [
    {
     "data": {
      "text/plain": [
       "MannwhitneyuResult(statistic=86299.0, pvalue=1.6983740115326642e-31)"
      ]
     },
     "execution_count": 139,
     "metadata": {
      "tags": []
     },
     "output_type": "execute_result"
    }
   ],
   "source": [
    "stats.mannwhitneyu(washington_2012['value'], washington_2018['value'])"
   ]
  },
  {
   "cell_type": "code",
   "execution_count": 140,
   "metadata": {
    "colab": {
     "base_uri": "https://localhost:8080/",
     "height": 357
    },
    "colab_type": "code",
    "id": "zHZf2con8Zy0",
    "outputId": "d5e6285d-bce3-4e03-ca39-70d3f41c66f2"
   },
   "outputs": [
    {
     "name": "stdout",
     "output_type": "stream",
     "text": [
      "Dataframe 1 Aggregated Stats:\n",
      "col_sum    1.596851e+07\n",
      "median     2.700000e+01\n",
      "std        1.023828e+05\n",
      "Name: value, dtype: float64\n",
      "\n",
      "\n",
      "Dataframe 2 Aggregated Stats:\n",
      "col_sum    1.382186e+07\n",
      "median     1.125000e+03\n",
      "std        1.187602e+05\n",
      "Name: value, dtype: float64\n",
      "Difference between Medians: \n",
      "-1098.0\n",
      "Difference between Standard Deviations: \n",
      "-16302.907926284752\n",
      "Difference between Sums: \n",
      "2146651\n",
      "95% Confidence Interval: \n",
      "[[-1119.8092346715925], [-1076.1907653284075]]\n"
     ]
    }
   ],
   "source": [
    "#95% CI for Washington:\n",
    "print(ci95_mwu(washington_2012['value'], washington_2018['value']))"
   ]
  },
  {
   "cell_type": "markdown",
   "metadata": {
    "colab_type": "text",
    "id": "EelcdVgyrrMG"
   },
   "source": [
    "There is a significant difference between Washington's border crossings in 2012 and 2018 (p < .001). We can reject the null hypothesis.\n",
    "\n",
    "At the 95% confidence level, the median difference between crossings in Washington in 2012 and in 2018 is between -1120 and -1076.\n",
    "\n",
    "That is, Washington's median border crossings in 2012 are between 1120 and 1076 crossings lower than in 2018."
   ]
  },
  {
   "cell_type": "markdown",
   "metadata": {
    "colab_type": "text",
    "id": "UQ_Ojb-tr1Wk"
   },
   "source": [
    "What we are seeing here is that the median amount of crossings for all border states except Idaho were significantly different from 2012 to 2018.\n",
    "\n",
    "Furthermore, when we look closely at the raw counts (that is, the sum total of crossings) of each state's amount of inbound US border crossings in 2012 vs. in 2018, we see that every single state that **borders Mexico** experienced an  **increase** in border crossings from 2012 to 2018, whereas every state that **borders Canada** saw a **decrease** in border crossings from 2012 to 2018, including in Idaho, though there was no **significant** difference found there."
   ]
  },
  {
   "cell_type": "code",
   "execution_count": 150,
   "metadata": {
    "colab": {
     "base_uri": "https://localhost:8080/",
     "height": 140
    },
    "colab_type": "code",
    "id": "-KRWQWXEXhqv",
    "outputId": "cf745eb9-3a4d-406e-9cb5-84a52d071dd3"
   },
   "outputs": [
    {
     "data": {
      "text/plain": [
       "<Figure size 1080x360 with 0 Axes>"
      ]
     },
     "metadata": {
      "tags": []
     },
     "output_type": "display_data"
    },
    {
     "data": {
      "image/png": "[encoded data removed]",
      "text/plain": [
       "<Figure size 2721.6x432 with 14 Axes>"
      ]
     },
     "metadata": {
      "tags": []
     },
     "output_type": "display_data"
    }
   ],
   "source": [
    "#To make this visualization, I'll take a slice from people_crossings that includes 2012 AND 2018:\n",
    "crossings_2012_and_2018 = people_crossing[(people_crossing['year'] == 2012) | (people_crossing['year'] == 2018)]\n",
    "\n",
    "plt.figure(figsize=(15,5))\n",
    "stateplot1 = sns.catplot(x=\"year\", y=\"value\",\n",
    "                 col=\"state_abbr\",\n",
    "                 data=crossings_2012_and_2018, estimator=sum,\n",
    "                 kind=\"bar\", height=6, aspect=.45)\n",
    "(stateplot1.set_axis_labels(\"\", \"Count of Border Crossings\")\n",
    "  .set_xticklabels(['2012', '2018'])\n",
    "  .set_titles(\"{col_name}\"))\n",
    "\n",
    "plt.subplots_adjust(top=0.9)\n",
    "plt.suptitle('Counts of US Inbound Border Crossings in 2012 and 2018 by State', fontsize = 16)\n",
    "sns.despine()\n",
    "plt.show(stateplot1)"
   ]
  },
  {
   "cell_type": "code",
   "execution_count": 0,
   "metadata": {
    "colab": {
     "base_uri": "https://localhost:8080/",
     "height": 466
    },
    "colab_type": "code",
    "id": "QNj9QOj-a5Xy",
    "outputId": "5a236c4f-2691-47d8-c3e1-806e749e30cf"
   },
   "outputs": [
    {
     "data": {
      "text/plain": [
       "<Figure size 1080x360 with 0 Axes>"
      ]
     },
     "metadata": {
      "tags": []
     },
     "output_type": "display_data"
    },
    {
     "data": {
      "image/png": "[encoded data removed]",
      "text/plain": [
       "<Figure size 2721.6x432 with 14 Axes>"
      ]
     },
     "metadata": {
      "tags": []
     },
     "output_type": "display_data"
    }
   ],
   "source": [
    "plt.figure(figsize=(15,5))\n",
    "stateplot2 = sns.catplot(x=\"year\", y=\"value\",\n",
    "                 col=\"state_abbr\",\n",
    "                 data=crossings_2012_and_2018, estimator=median,\n",
    "                 kind=\"bar\", height=6, aspect=.45)\n",
    "(stateplot2.set_axis_labels(\"\", \"Medians of US Inbound Border Crossings\")\n",
    "  .set_xticklabels(['2012', '2018'])\n",
    "  .set_titles(\"{col_name}\"))\n",
    "plt.subplots_adjust(top=0.9)\n",
    "plt.suptitle('Medians of US Inbound Border Crossings in 2012 and 2018 by State', fontsize = 16)\n",
    "sns.despine()\n",
    "plt.show(stateplot2)"
   ]
  },
  {
   "cell_type": "markdown",
   "metadata": {
    "colab_type": "text",
    "id": "klkUqf-6ovwf"
   },
   "source": [
    "The catplots above better illustrate that the medians of all 4 states that border Mexico were **higher** in 2018 than they were in 2012, while the medians of 11 states that border Canada (as only 11 of 13 are included in this dataset) were also **higher** in 2018, despite seeing fewer overall crossings in 2018."
   ]
  },
  {
   "cell_type": "markdown",
   "metadata": {
    "colab_type": "text",
    "id": "ArcJzxUtt7TA"
   },
   "source": [
    "Now we'll move on to looking at the US-Mexico border specifically.\n",
    "\n",
    "**Hypothesis 2:**\n",
    "\n",
    "Ho: There is no significant difference in inbound US-Mexico border crossings between 2012 and 2018.\n",
    "\n",
    "Ha: There is a significant difference in inbound US-Mexico border crossings from 2012 to 2018.\n",
    "\n",
    "First, we'll test for a significant difference between Mexico's total crossings in 2012 vs. 2018. Then, we'll test differences in conveyance types between 2012 and 2018. Following that, we'll look within each year to see if there is a significant difference between conveyance types and, if so, which ones stand out.\n",
    "\n",
    "We will not test differences between states here, since that was already done above. We already know, also, that Texas and California saw by far the most border crossings of the 4 states that border Mexico."
   ]
  },
  {
   "cell_type": "code",
   "execution_count": 0,
   "metadata": {
    "colab": {},
    "colab_type": "code",
    "id": "_8nAQsJeuv1A"
   },
   "outputs": [],
   "source": [
    "#First, we'll make 2 datasets from that just contain data from the US-Mexico border:\n",
    "mexico_2012 = crossing_2012[(crossing_2012['border'] == 'US-Mexico Border')]\n",
    "mexico_2018 = crossing_2018[(crossing_2018['border'] == 'US-Mexico Border')]"
   ]
  },
  {
   "cell_type": "code",
   "execution_count": 0,
   "metadata": {
    "colab": {
     "base_uri": "https://localhost:8080/",
     "height": 34
    },
    "colab_type": "code",
    "id": "MzxhV7SfvZwY",
    "outputId": "6c1c4b61-7a5a-44a8-ea78-0a442d4fee76"
   },
   "outputs": [
    {
     "data": {
      "text/plain": [
       "MannwhitneyuResult(statistic=356198.0, pvalue=2.1220470548918775e-34)"
      ]
     },
     "execution_count": 75,
     "metadata": {
      "tags": []
     },
     "output_type": "execute_result"
    }
   ],
   "source": [
    "stats.mannwhitneyu(mexico_2012['value'], mexico_2018['value'])"
   ]
  },
  {
   "cell_type": "code",
   "execution_count": 0,
   "metadata": {
    "colab": {
     "base_uri": "https://localhost:8080/",
     "height": 357
    },
    "colab_type": "code",
    "id": "dkgQzTOGd5T-",
    "outputId": "b61546c3-668d-4f27-c9a0-807e2d11404e"
   },
   "outputs": [
    {
     "name": "stdout",
     "output_type": "stream",
     "text": [
      "Dataframe 1 Aggregated Stats:\n",
      "col_sum    1.590612e+08\n",
      "median     7.053000e+03\n",
      "std        2.746705e+05\n",
      "Name: value, dtype: float64\n",
      "\n",
      "\n",
      "Dataframe 2 Aggregated Stats:\n",
      "col_sum    1.929137e+08\n",
      "median     6.342400e+04\n",
      "std        3.919661e+05\n",
      "Name: value, dtype: float64\n",
      "Difference between Medians: \n",
      "-56371.0\n",
      "Difference between Standard Deviations: \n",
      "-117183.14704205439\n",
      "Difference between Sums: \n",
      "-33852505\n",
      "95% Confidence Interval: \n",
      "[[-56410.475334889445], [-56331.524665110555]]\n"
     ]
    }
   ],
   "source": [
    "#95% CI for median difference between US-Mexico border in 2012 vs. US-Mexico border in 2018:\n",
    "print(ci95_mwu(mexico_2012['value'], mexico_2018['value']))"
   ]
  },
  {
   "cell_type": "markdown",
   "metadata": {
    "colab_type": "text",
    "id": "OE43DTIKv0Al"
   },
   "source": [
    "There is a significant difference between Mexico's median number of border crossings into the US in 2012 vs the median number of crossings in 2018 (p < .001). We can reject the null hypothesis. \n",
    "\n",
    "At the 95% confidence level, the difference between medians falls between -56,410 and -56,332.\n",
    "\n",
    "That is, the median amount of crossings at the US-Mexico border in 2012 is between 56,410 and 56,332 crossings lower than at the same border in 2018.\n",
    "\n",
    "From the above statistics regarding specific states (and from the difference between sums shown in the above CI output), we can also conclude that the amount of border crossings at the US-Mexico border in 2018 was higher than in 2012."
   ]
  },
  {
   "cell_type": "code",
   "execution_count": 0,
   "metadata": {
    "colab": {
     "base_uri": "https://localhost:8080/",
     "height": 153
    },
    "colab_type": "code",
    "id": "x7nPVjlhwkuV",
    "outputId": "dc8812ae-1cb7-4b8c-e9cf-fba87ad6e2e2"
   },
   "outputs": [
    {
     "name": "stdout",
     "output_type": "stream",
     "text": [
      "Bus Passengers from Mexico, 2012:  2866637\n",
      "Pedestrians from Mexico, 2012:  41141640\n",
      "Train Passengers from Mexico, 2012:  3319\n",
      "Personal Vehicle Passengers from Mexico, 2012:  115049585\n",
      "Bus Passengers from Mexico, 2018:  1838132\n",
      "Pedestrians from Mexico, 2018:  46173881\n",
      "Train Passengers from Mexico, 2018:  10436\n",
      "Personal Vehicle Passengers from Mexico, 2018:  144891237\n"
     ]
    }
   ],
   "source": [
    "#Now we'll look at conveyances types used at the US-Mexico border. \n",
    "#We'll test for differences between years first:\n",
    "mex_2012_bus = mexico_2012[(mexico_2012['measure'] == 'Bus Passengers')]\n",
    "mex_2012_peds = mexico_2012[(mexico_2012['measure'] == 'Pedestrians')]\n",
    "mex_2012_train = mexico_2012[(mexico_2012['measure'] == 'Train Passengers')]\n",
    "mex_2012_pvp = mexico_2012[(mexico_2012['measure'] == 'Personal Vehicle Passengers')]\n",
    "\n",
    "#counts for conveyances in 2012:\n",
    "print('Bus Passengers from Mexico, 2012: ', mex_2012_bus.value.sum()) \n",
    "print('Pedestrians from Mexico, 2012: ', mex_2012_peds.value.sum()) \n",
    "print('Train Passengers from Mexico, 2012: ', mex_2012_train.value.sum()) \n",
    "print('Personal Vehicle Passengers from Mexico, 2012: ', mex_2012_pvp.value.sum()) \n",
    "\n",
    "mex_2018_bus = mexico_2018[(mexico_2018['measure'] == 'Bus Passengers')]\n",
    "mex_2018_peds = mexico_2018[(mexico_2018['measure'] == 'Pedestrians')]\n",
    "mex_2018_train = mexico_2018[(mexico_2018['measure'] == 'Train Passengers')]\n",
    "mex_2018_pvp = mexico_2018[(mexico_2018['measure'] == 'Personal Vehicle Passengers')]\n",
    "\n",
    "#counts for conveyances in 2018:\n",
    "print('Bus Passengers from Mexico, 2018: ', mex_2018_bus.value.sum()) \n",
    "print('Pedestrians from Mexico, 2018: ', mex_2018_peds.value.sum()) \n",
    "print('Train Passengers from Mexico, 2018: ', mex_2018_train.value.sum()) \n",
    "print('Personal Vehicle Passengers from Mexico, 2018: ', mex_2018_pvp.value.sum())"
   ]
  },
  {
   "cell_type": "code",
   "execution_count": 0,
   "metadata": {
    "colab": {
     "base_uri": "https://localhost:8080/",
     "height": 920
    },
    "colab_type": "code",
    "id": "mCIo5Z09l6JW",
    "outputId": "0eda425d-23eb-4289-85d6-86189100d3b1"
   },
   "outputs": [
    {
     "name": "stdout",
     "output_type": "stream",
     "text": [
      "US-Mexico border crossings in 2012:  159061181\n",
      "US-Mexico border crossings in 2018:  192913686\n"
     ]
    },
    {
     "data": {
      "text/plain": [
       "<Figure size 1080x360 with 0 Axes>"
      ]
     },
     "metadata": {
      "tags": []
     },
     "output_type": "display_data"
    },
    {
     "data": {
      "image/png": "[encoded data removed]",
      "text/plain": [
       "<Figure size 1036.8x432 with 2 Axes>"
      ]
     },
     "metadata": {
      "tags": []
     },
     "output_type": "display_data"
    },
    {
     "data": {
      "image/png": "[encoded data removed]",
      "text/plain": [
       "<Figure size 1036.8x432 with 2 Axes>"
      ]
     },
     "metadata": {
      "tags": []
     },
     "output_type": "display_data"
    }
   ],
   "source": [
    "#For ease of viewing, I'm going to make a catplot showing conveyance types between 2012 & 2018:\n",
    "mex_2012_and_2018 = people_crossing[(people_crossing['border'] == \"US-Mexico Border\") & ((people_crossing['year'] == 2012) | (people_crossing['year'] == 2018))]\n",
    "\n",
    "print('US-Mexico border crossings in 2012: ', mexico_2012.value.sum()) \n",
    "print('US-Mexico border crossings in 2018: ', mexico_2018.value.sum())\n",
    "#We can see that the number of crossings in 2018 was far higher than in 2012.\n",
    "\n",
    "plt.figure(figsize=(15,5))      #making the catplot with medians\n",
    "conveyplot1 = sns.catplot(x=\"measure\", y=\"value\",\n",
    "                 col=\"year\",\n",
    "                 data=mex_2012_and_2018, estimator=sum,\n",
    "                 kind=\"bar\", height=6, aspect=1.2);\n",
    "plt.subplots_adjust(top=0.9)\n",
    "plt.suptitle('Count of US Inbound Border Crossings from Mexico in 2012 and 2018 by Conveyance Type', fontsize = 16)\n",
    "plt.show(conveyplot1)\n",
    "\n",
    "conveyplot2 = sns.catplot(x=\"measure\", y=\"value\",\n",
    "                 col=\"year\",\n",
    "                 data=mex_2012_and_2018, estimator=median,\n",
    "                 kind=\"bar\", height=6, aspect=1.2);\n",
    "plt.subplots_adjust(top=0.9)\n",
    "plt.suptitle('Medians of US Inbound Border Crossings from Mexico in 2012 and 2018 by Conveyance Type', fontsize = 16)\n",
    "plt.show(conveyplot2)                 "
   ]
  },
  {
   "cell_type": "markdown",
   "metadata": {
    "colab_type": "text",
    "id": "EG7fH3gUsezG"
   },
   "source": [
    "Both the raw counts and the medians of border crossings from Mexico were higher for all conveyance types in 2018 than they were in 2012 (except for buses, where we can see that fewer total bus crossings occurred in 2018).\n",
    "\n",
    "--------\n",
    "Rather than performing Mann Whitney U tests again on the conveyance types used to cross the US-Mexico border from 2012 to 2018, I will instead use the Kruskal-Wallis test as an ANOVA to see if there are significant differences between the 4 types of conveyances in 2012 and between the 4 types of conveyances in 2018. \n",
    "\n",
    "Supposing there are significant differences, I will use Dunn's test as a posthoc test, to see which conveyance types stand out significantly."
   ]
  },
  {
   "cell_type": "code",
   "execution_count": 0,
   "metadata": {
    "colab": {
     "base_uri": "https://localhost:8080/",
     "height": 446
    },
    "colab_type": "code",
    "id": "SysSxYBAqyXx",
    "outputId": "777dc7f8-5b1f-4f22-98c3-4bc678b21002"
   },
   "outputs": [
    {
     "data": {
      "text/plain": [
       "<Figure size 1080x360 with 0 Axes>"
      ]
     },
     "metadata": {
      "tags": []
     },
     "output_type": "display_data"
    },
    {
     "data": {
      "image/png": "[encoded data removed]",
      "text/plain": [
       "<Figure size 777.6x432 with 4 Axes>"
      ]
     },
     "metadata": {
      "tags": []
     },
     "output_type": "display_data"
    }
   ],
   "source": [
    "#Here's where I'm inserting my just Mexico stateplot, using mex_2012_and_2018:\n",
    "plt.figure(figsize=(15,5))\n",
    "stateplot_mex = sns.catplot(x=\"year\", y=\"value\",\n",
    "                 col=\"state_abbr\",\n",
    "                 data=mex_2012_and_2018, estimator=sum,\n",
    "                 kind=\"bar\", height=6, aspect=.45)\n",
    "(stateplot_mex.set_axis_labels(\"\", \"Counts of US-Mexico Border Crossings\")\n",
    "  .set_xticklabels(['2012', '2018'])\n",
    "  .set_titles(\"{col_name}\"))  \n",
    "plt.subplots_adjust(top=0.9)\n",
    "plt.suptitle('Counts of US-Mexico Inbound Border Crossings in 2012 and 2018 by State', fontsize = 16)\n",
    "sns.despine()\n",
    "plt.show(stateplot_mex)"
   ]
  },
  {
   "cell_type": "code",
   "execution_count": 0,
   "metadata": {
    "colab": {
     "base_uri": "https://localhost:8080/",
     "height": 34
    },
    "colab_type": "code",
    "id": "yI8YkRjE_NRb",
    "outputId": "b5f01fa8-44a3-4688-925f-fbe80f00c970"
   },
   "outputs": [
    {
     "data": {
      "text/plain": [
       "KruskalResult(statistic=890.186209604612, pvalue=1.1903870497595827e-192)"
      ]
     },
     "execution_count": 79,
     "metadata": {
      "tags": []
     },
     "output_type": "execute_result"
    }
   ],
   "source": [
    "#Conducting a Kruskal-Wallis test to test for differences between 2012 conveyances:\n",
    "stats.kruskal(\n",
    "    mex_2012_bus['value'],\n",
    "    mex_2012_peds['value'],\n",
    "    mex_2012_train['value'],\n",
    "    mex_2012_pvp['value']\n",
    ")"
   ]
  },
  {
   "cell_type": "markdown",
   "metadata": {
    "colab_type": "text",
    "id": "ecIves3aB20u"
   },
   "source": [
    "There is a significant difference between the medians of conveyance types used to cross the US-Mexico border in 2012 (p < .001). We can reject the null hypothesis."
   ]
  },
  {
   "cell_type": "code",
   "execution_count": 0,
   "metadata": {
    "colab": {
     "base_uri": "https://localhost:8080/",
     "height": 173
    },
    "colab_type": "code",
    "id": "IQzPQdH3CpT9",
    "outputId": "8555c865-98c6-473d-c4b6-6c08d2bee811"
   },
   "outputs": [
    {
     "data": {
      "text/html": [
       "<div>\n",
       "<style scoped>\n",
       "    .dataframe tbody tr th:only-of-type {\n",
       "        vertical-align: middle;\n",
       "    }\n",
       "\n",
       "    .dataframe tbody tr th {\n",
       "        vertical-align: top;\n",
       "    }\n",
       "\n",
       "    .dataframe thead th {\n",
       "        text-align: right;\n",
       "    }\n",
       "</style>\n",
       "<table border=\"1\" class=\"dataframe\">\n",
       "  <thead>\n",
       "    <tr style=\"text-align: right;\">\n",
       "      <th></th>\n",
       "      <th>1</th>\n",
       "      <th>2</th>\n",
       "      <th>3</th>\n",
       "      <th>4</th>\n",
       "    </tr>\n",
       "  </thead>\n",
       "  <tbody>\n",
       "    <tr>\n",
       "      <th>1</th>\n",
       "      <td>-1.000000e+00</td>\n",
       "      <td>5.277264e-36</td>\n",
       "      <td>9.847385e-18</td>\n",
       "      <td>6.618437e-76</td>\n",
       "    </tr>\n",
       "    <tr>\n",
       "      <th>2</th>\n",
       "      <td>5.277264e-36</td>\n",
       "      <td>-1.000000e+00</td>\n",
       "      <td>7.424244e-99</td>\n",
       "      <td>3.430052e-09</td>\n",
       "    </tr>\n",
       "    <tr>\n",
       "      <th>3</th>\n",
       "      <td>9.847385e-18</td>\n",
       "      <td>7.424244e-99</td>\n",
       "      <td>-1.000000e+00</td>\n",
       "      <td>1.044758e-160</td>\n",
       "    </tr>\n",
       "    <tr>\n",
       "      <th>4</th>\n",
       "      <td>6.618437e-76</td>\n",
       "      <td>3.430052e-09</td>\n",
       "      <td>1.044758e-160</td>\n",
       "      <td>-1.000000e+00</td>\n",
       "    </tr>\n",
       "  </tbody>\n",
       "</table>\n",
       "</div>"
      ],
      "text/plain": [
       "              1             2              3              4\n",
       "1 -1.000000e+00  5.277264e-36   9.847385e-18   6.618437e-76\n",
       "2  5.277264e-36 -1.000000e+00   7.424244e-99   3.430052e-09\n",
       "3  9.847385e-18  7.424244e-99  -1.000000e+00  1.044758e-160\n",
       "4  6.618437e-76  3.430052e-09  1.044758e-160  -1.000000e+00"
      ]
     },
     "execution_count": 80,
     "metadata": {
      "tags": []
     },
     "output_type": "execute_result"
    }
   ],
   "source": [
    "#Now runnng Dunn's test as a posthoc measure:\n",
    "dunn_mex_2012 = [\n",
    "    mex_2012_bus['value'],\n",
    "    mex_2012_peds['value'],\n",
    "    mex_2012_train['value'],\n",
    "    mex_2012_pvp['value']\n",
    "]\n",
    "sp.posthoc_dunn(dunn_mex_2012)"
   ]
  },
  {
   "cell_type": "markdown",
   "metadata": {
    "colab_type": "text",
    "id": "BnWSN71IDCcd"
   },
   "source": [
    "All conveyance types used to cross the US-Mexico border in 2012 are significantly different from each other (p < .001 in all cases)."
   ]
  },
  {
   "cell_type": "code",
   "execution_count": 0,
   "metadata": {
    "colab": {
     "base_uri": "https://localhost:8080/",
     "height": 34
    },
    "colab_type": "code",
    "id": "mF18P6AEwxGF",
    "outputId": "6b4f23c4-4058-494c-ab04-1fb12c15b135"
   },
   "outputs": [
    {
     "data": {
      "text/plain": [
       "KruskalResult(statistic=471.82485914526995, pvalue=6.085295098374925e-102)"
      ]
     },
     "execution_count": 81,
     "metadata": {
      "tags": []
     },
     "output_type": "execute_result"
    }
   ],
   "source": [
    "#Kruskal-Wallis test for 2018 conveyances:\n",
    "stats.kruskal(\n",
    "    mex_2018_bus['value'],\n",
    "    mex_2018_peds['value'],\n",
    "    mex_2018_train['value'],\n",
    "    mex_2018_pvp['value']\n",
    ")"
   ]
  },
  {
   "cell_type": "markdown",
   "metadata": {
    "colab_type": "text",
    "id": "VShOQI63Cm9G"
   },
   "source": [
    "There is a significant difference between the medians of conveyance types used to cross the US-Mexico border in 2018 (p < .001). We can reject the null hypothesis."
   ]
  },
  {
   "cell_type": "code",
   "execution_count": 0,
   "metadata": {
    "colab": {
     "base_uri": "https://localhost:8080/",
     "height": 173
    },
    "colab_type": "code",
    "id": "Spy867iwDjbi",
    "outputId": "3f442501-9409-4e2d-ed23-6d1973e21ebd"
   },
   "outputs": [
    {
     "data": {
      "text/html": [
       "<div>\n",
       "<style scoped>\n",
       "    .dataframe tbody tr th:only-of-type {\n",
       "        vertical-align: middle;\n",
       "    }\n",
       "\n",
       "    .dataframe tbody tr th {\n",
       "        vertical-align: top;\n",
       "    }\n",
       "\n",
       "    .dataframe thead th {\n",
       "        text-align: right;\n",
       "    }\n",
       "</style>\n",
       "<table border=\"1\" class=\"dataframe\">\n",
       "  <thead>\n",
       "    <tr style=\"text-align: right;\">\n",
       "      <th></th>\n",
       "      <th>1</th>\n",
       "      <th>2</th>\n",
       "      <th>3</th>\n",
       "      <th>4</th>\n",
       "    </tr>\n",
       "  </thead>\n",
       "  <tbody>\n",
       "    <tr>\n",
       "      <th>1</th>\n",
       "      <td>-1.000000e+00</td>\n",
       "      <td>1.343152e-28</td>\n",
       "      <td>9.958620e-04</td>\n",
       "      <td>3.029796e-80</td>\n",
       "    </tr>\n",
       "    <tr>\n",
       "      <th>2</th>\n",
       "      <td>1.343152e-28</td>\n",
       "      <td>-1.000000e+00</td>\n",
       "      <td>2.902217e-23</td>\n",
       "      <td>4.053529e-20</td>\n",
       "    </tr>\n",
       "    <tr>\n",
       "      <th>3</th>\n",
       "      <td>9.958620e-04</td>\n",
       "      <td>2.902217e-23</td>\n",
       "      <td>-1.000000e+00</td>\n",
       "      <td>1.641639e-48</td>\n",
       "    </tr>\n",
       "    <tr>\n",
       "      <th>4</th>\n",
       "      <td>3.029796e-80</td>\n",
       "      <td>4.053529e-20</td>\n",
       "      <td>1.641639e-48</td>\n",
       "      <td>-1.000000e+00</td>\n",
       "    </tr>\n",
       "  </tbody>\n",
       "</table>\n",
       "</div>"
      ],
      "text/plain": [
       "              1             2             3             4\n",
       "1 -1.000000e+00  1.343152e-28  9.958620e-04  3.029796e-80\n",
       "2  1.343152e-28 -1.000000e+00  2.902217e-23  4.053529e-20\n",
       "3  9.958620e-04  2.902217e-23 -1.000000e+00  1.641639e-48\n",
       "4  3.029796e-80  4.053529e-20  1.641639e-48 -1.000000e+00"
      ]
     },
     "execution_count": 82,
     "metadata": {
      "tags": []
     },
     "output_type": "execute_result"
    }
   ],
   "source": [
    "#Now running Dunn's test as a posthoc measure:\n",
    "dunn_mex_2018 = [\n",
    "    mex_2018_bus['value'],\n",
    "    mex_2018_peds['value'],\n",
    "    mex_2018_train['value'],\n",
    "    mex_2018_pvp['value']\n",
    "]\n",
    "sp.posthoc_dunn(dunn_mex_2018)"
   ]
  },
  {
   "cell_type": "markdown",
   "metadata": {
    "colab_type": "text",
    "id": "pmhCzDWLD6BV"
   },
   "source": [
    "All conveyance types used to cross the US-Mexico border in 2018 are significantly different from each other (p < .001 in all cases)."
   ]
  },
  {
   "cell_type": "markdown",
   "metadata": {
    "colab_type": "text",
    "id": "ofxjwBT9EP7b"
   },
   "source": [
    "Now we will move on to the third hypothesis:\n",
    "\n",
    "**Hypothesis 3:**\n",
    "\n",
    "Ho: There is no significant difference in inbound US-Canada border crossings from 2012 to 2018.\n",
    "\n",
    "Ha: There is a significant difference in inbound US-Canada border crossings from 2012 to 2018.\n",
    "\n",
    "First, we'll test for a significant difference between Canada's total crossings in 2012 vs. 2018. Then, we'll look within each year to see if there is a significant difference between conveyance types and, if so, which ones stand out.\n",
    "\n",
    "We will not test differences between states here, since that was already done above. "
   ]
  },
  {
   "cell_type": "code",
   "execution_count": 0,
   "metadata": {
    "colab": {},
    "colab_type": "code",
    "id": "8ppbGDf5E1AJ"
   },
   "outputs": [],
   "source": [
    "#First, we'll make 2 datasets from that just contain data from the US-Canada border:\n",
    "canada_2012 = crossing_2012[(crossing_2012['border'] == 'US-Canada Border')]\n",
    "canada_2018 = crossing_2018[(crossing_2018['border'] == 'US-Canada Border')]"
   ]
  },
  {
   "cell_type": "code",
   "execution_count": 0,
   "metadata": {
    "colab": {
     "base_uri": "https://localhost:8080/",
     "height": 34
    },
    "colab_type": "code",
    "id": "1Hv-CTiZJFEs",
    "outputId": "4d81cb98-6609-417a-a78a-bb0c582cd04f"
   },
   "outputs": [
    {
     "data": {
      "text/plain": [
       "MannwhitneyuResult(statistic=2522207.5, pvalue=2.856800490714359e-179)"
      ]
     },
     "execution_count": 84,
     "metadata": {
      "tags": []
     },
     "output_type": "execute_result"
    }
   ],
   "source": [
    "stats.mannwhitneyu(canada_2012['value'], canada_2018['value'])"
   ]
  },
  {
   "cell_type": "code",
   "execution_count": 0,
   "metadata": {
    "colab": {
     "base_uri": "https://localhost:8080/",
     "height": 357
    },
    "colab_type": "code",
    "id": "jyQLbu2LehSY",
    "outputId": "38f3b98f-9533-4d01-dac3-e3afb36a6fc0"
   },
   "outputs": [
    {
     "name": "stdout",
     "output_type": "stream",
     "text": [
      "Dataframe 1 Aggregated Stats:\n",
      "col_sum    6.513770e+07\n",
      "median     2.500000e+01\n",
      "std        8.598197e+04\n",
      "Name: value, dtype: float64\n",
      "\n",
      "\n",
      "Dataframe 2 Aggregated Stats:\n",
      "col_sum    5.403224e+07\n",
      "median     9.760000e+02\n",
      "std        9.920656e+04\n",
      "Name: value, dtype: float64\n",
      "Difference between Medians: \n",
      "-951.0\n",
      "Difference between Standard Deviations: \n",
      "-13212.336780214056\n",
      "Difference between Sums: \n",
      "11105464\n",
      "95% Confidence Interval: \n",
      "[[-958.7708290008036], [-943.2291709991964]]\n"
     ]
    }
   ],
   "source": [
    "#95% CI for median difference between crossings at the US-Canada border in 2012 vs. in 2018:\n",
    "print(ci95_mwu(canada_2012['value'], canada_2018['value']))"
   ]
  },
  {
   "cell_type": "markdown",
   "metadata": {
    "colab_type": "text",
    "id": "jYA8Nhh_JKQL"
   },
   "source": [
    "There is a significant difference between Canada's median number of border crossings into the US in 2012 vs the median number of crossings in 2018 (p < .001). We can reject the null hypothesis. \n",
    "\n",
    "At the 95% confidence level, the median difference between the US-Canada border in 2012 and in 2018 falls between -959 and -943.\n",
    "\n",
    "That is, the median amount of crossings at the US-Canada border in 2012 is 959 to 943 crossings lower than in 2018.\n",
    "\n",
    "From the above statistics regarding specific states (and from the difference between sums shown in the CI output), we can also conclude that the total amount of border crossings in 2018 was lower than in 2012, even though the median happens to be higher in 2012."
   ]
  },
  {
   "cell_type": "code",
   "execution_count": 0,
   "metadata": {
    "colab": {
     "base_uri": "https://localhost:8080/",
     "height": 153
    },
    "colab_type": "code",
    "id": "_DMm01IpvW1H",
    "outputId": "50823804-ae5e-45d0-a55c-aa206f2166a2"
   },
   "outputs": [
    {
     "name": "stdout",
     "output_type": "stream",
     "text": [
      "Bus Passengers from Canada, 2012:  2435608\n",
      "Pedestrians from Canada, 2012:  424870\n",
      "Train Passengers from Canada, 2012:  269048\n",
      "Personal Vehicle Passengers from Canada, 2012:  62008178\n",
      "Bus Passengers from Canada, 2018:  1795768\n",
      "Pedestrians from Canada, 2018:  486290\n",
      "Train Passengers from Canada, 2018:  289317\n",
      "Personal Vehicle Passengers from Canada, 2018:  51460865\n"
     ]
    }
   ],
   "source": [
    "#Now we'll look at conveyances types used at the US-Canada border. \n",
    "#We'll test for differences between years first:\n",
    "can_2012_bus = canada_2012[(canada_2012['measure'] == 'Bus Passengers')]\n",
    "can_2012_peds = canada_2012[(canada_2012['measure'] == 'Pedestrians')]\n",
    "can_2012_train = canada_2012[(canada_2012['measure'] == 'Train Passengers')]\n",
    "can_2012_pvp = canada_2012[(canada_2012['measure'] == 'Personal Vehicle Passengers')]\n",
    "\n",
    "#counts for conveyances in 2012:\n",
    "print('Bus Passengers from Canada, 2012: ', can_2012_bus.value.sum()) \n",
    "print('Pedestrians from Canada, 2012: ', can_2012_peds.value.sum()) \n",
    "print('Train Passengers from Canada, 2012: ', can_2012_train.value.sum()) \n",
    "print('Personal Vehicle Passengers from Canada, 2012: ', can_2012_pvp.value.sum()) \n",
    "\n",
    "can_2018_bus = canada_2018[(canada_2018['measure'] == 'Bus Passengers')]\n",
    "can_2018_peds = canada_2018[(canada_2018['measure'] == 'Pedestrians')]\n",
    "can_2018_train = canada_2018[(canada_2018['measure'] == 'Train Passengers')]\n",
    "can_2018_pvp = canada_2018[(canada_2018['measure'] == 'Personal Vehicle Passengers')]\n",
    "\n",
    "#counts for conveyances in 2018:\n",
    "print('Bus Passengers from Canada, 2018: ', can_2018_bus.value.sum()) \n",
    "print('Pedestrians from Canada, 2018: ', can_2018_peds.value.sum()) \n",
    "print('Train Passengers from Canada, 2018: ', can_2018_train.value.sum()) \n",
    "print('Personal Vehicle Passengers from Canada, 2018: ', can_2018_pvp.value.sum())"
   ]
  },
  {
   "cell_type": "code",
   "execution_count": 0,
   "metadata": {
    "colab": {
     "base_uri": "https://localhost:8080/",
     "height": 920
    },
    "colab_type": "code",
    "id": "cv9ZMwV6JP8I",
    "outputId": "4b287afd-3edd-4bc9-8ac1-c77eabff2bf6"
   },
   "outputs": [
    {
     "name": "stdout",
     "output_type": "stream",
     "text": [
      "US-Canada border crossings in 2012:  65137704\n",
      "US-Canada border crossings in 2018:  54032240\n"
     ]
    },
    {
     "data": {
      "text/plain": [
       "<Figure size 1080x360 with 0 Axes>"
      ]
     },
     "metadata": {
      "tags": []
     },
     "output_type": "display_data"
    },
    {
     "data": {
      "image/png": "[encoded data removed]",
      "text/plain": [
       "<Figure size 1036.8x432 with 2 Axes>"
      ]
     },
     "metadata": {
      "tags": []
     },
     "output_type": "display_data"
    },
    {
     "data": {
      "image/png": "[encoded data removed]",
      "text/plain": [
       "<Figure size 1036.8x432 with 2 Axes>"
      ]
     },
     "metadata": {
      "tags": []
     },
     "output_type": "display_data"
    }
   ],
   "source": [
    "#Again for ease of viewing, I'm going to make a catplot showing conveyance types between 2012 & 2018:\n",
    "can_2012_and_2018 = people_crossing[(people_crossing['border'] == \"US-Canada Border\") & ((people_crossing['year'] == 2012) | (people_crossing['year'] == 2018))]\n",
    "\n",
    "# count_can_2012 = can_2012_and_2018[(can_2012_and_2018['year'] == 2012)]\n",
    "# print('US-CA border crossings 2012: ', count_can_2012.value.sum())\n",
    "\n",
    "#Getting counts for Canadian border crossings:\n",
    "print('US-Canada border crossings in 2012: ', canada_2012.value.sum()) \n",
    "print('US-Canada border crossings in 2018: ', canada_2018.value.sum())\n",
    "#We can see that the number of crossings in 2018 was lower than in 2012.\n",
    "\n",
    "#Making the catplot with the count of all crossings:\n",
    "plt.figure(figsize=(15,5))      \n",
    "conveyplot2 = sns.catplot(x=\"measure\", y=\"value\",\n",
    "                 col=\"year\",\n",
    "                 data=can_2012_and_2018, estimator=sum,\n",
    "                 kind=\"bar\", height=6, aspect=1.2);\n",
    "plt.subplots_adjust(top=0.9)\n",
    "plt.suptitle('Count of US Inbound Border Crossings from Canada in 2012 and 2018 by Conveyance Type', fontsize = 16)\n",
    "plt.show(conveyplot2)\n",
    "\n",
    "#Now making the catplot with the medians of crossings:\n",
    "conveyplot3 = sns.catplot(x=\"measure\", y=\"value\",\n",
    "                 col=\"year\",\n",
    "                 data=can_2012_and_2018, estimator=median,\n",
    "                 kind=\"bar\", height=6, aspect=1.2);\n",
    "plt.subplots_adjust(top=0.9)\n",
    "plt.suptitle('Medians of US Inbound Border Crossings from Canada in 2012 and 2018 by Conveyance Type', fontsize = 16)\n",
    "plt.show(conveyplot3)                 "
   ]
  },
  {
   "cell_type": "markdown",
   "metadata": {
    "colab_type": "text",
    "id": "1YCMkOtHr_Yb"
   },
   "source": [
    "As the above catplots show, when we look at US-Canada border crossings by conveyance type, the raw counts of crossings for Personal Vehicle Passengers and Bus Passengers were lower in 2018 than in 2012. The difference in raw counts among pedestrian crossings and train crossings in negligible.\n",
    "\n",
    "The medians for 3 out of 4 conveyance types were higher, however, in 2018. The median for Personal Vehicle Passengers, which is by far the most common conveyance type, was lower in 2018."
   ]
  },
  {
   "cell_type": "code",
   "execution_count": 0,
   "metadata": {
    "colab": {
     "base_uri": "https://localhost:8080/",
     "height": 466
    },
    "colab_type": "code",
    "id": "63Pf6uPtsTWQ",
    "outputId": "2b239f82-c781-4f6e-b8be-e8cbe5ae3f45"
   },
   "outputs": [
    {
     "data": {
      "text/plain": [
       "<Figure size 1080x360 with 0 Axes>"
      ]
     },
     "metadata": {
      "tags": []
     },
     "output_type": "display_data"
    },
    {
     "data": {
      "image/png": "[encoded data removed]",
      "text/plain": [
       "<Figure size 1512x432 with 10 Axes>"
      ]
     },
     "metadata": {
      "tags": []
     },
     "output_type": "display_data"
    }
   ],
   "source": [
    "#(Also, here's where I'm inserting my just Canada stateplot, for ease of viewing in the presentation:\n",
    "plt.figure(figsize=(15,5))\n",
    "stateplot_can = sns.catplot(x=\"year\", y=\"value\",\n",
    "                 col=\"state_abbr\",\n",
    "                 data=can_2012_and_2018, estimator=sum,\n",
    "                 kind=\"bar\", height=6, aspect=.35)\n",
    "(stateplot_can.set_axis_labels(\"\", \"Counts of US-Canada Border Crossings\")\n",
    "  .set_xticklabels(['2012', '2018'])\n",
    "  .set_titles(\"{col_name}\"))  \n",
    "plt.subplots_adjust(top=0.9)\n",
    "plt.suptitle('Counts of US-Canada Inbound Border Crossings in 2012 and 2018 by State', fontsize = 16)\n",
    "sns.despine()\n",
    "plt.show(stateplot_can)"
   ]
  },
  {
   "cell_type": "markdown",
   "metadata": {
    "colab_type": "text",
    "id": "RihAHCldyl-a"
   },
   "source": [
    "Again, as with Mexico, rather than performing Mann Whitney U tests a second time on the conveyance types used to cross the US-Canada border from 2012 to 2018, I will instead use the Kruskal-Wallis test as an ANOVA to see if there are significant differences between the 4 types of conveyances in 2012 and between the 4 types of conveyances in 2018.\n",
    "\n",
    "Supposing there are significant differences, I will use Dunn's test as a posthoc test, to see which conveyance types stand out significantly."
   ]
  },
  {
   "cell_type": "code",
   "execution_count": 0,
   "metadata": {
    "colab": {
     "base_uri": "https://localhost:8080/",
     "height": 34
    },
    "colab_type": "code",
    "id": "k82eN18fy29q",
    "outputId": "b22e9e11-18ef-4f5c-f6b2-1240e980573a"
   },
   "outputs": [
    {
     "data": {
      "text/plain": [
       "KruskalResult(statistic=2168.4512291757483, pvalue=0.0)"
      ]
     },
     "execution_count": 88,
     "metadata": {
      "tags": []
     },
     "output_type": "execute_result"
    }
   ],
   "source": [
    "#Testing differences between conveyances types coming from Canada in 2012:\n",
    "stats.kruskal(\n",
    "    can_2012_bus['value'],\n",
    "    can_2012_peds['value'],\n",
    "    can_2012_train['value'],\n",
    "    can_2012_pvp['value']\n",
    ")"
   ]
  },
  {
   "cell_type": "markdown",
   "metadata": {
    "colab_type": "text",
    "id": "SJbOHfVQzKI0"
   },
   "source": [
    "There is a significant difference between the medians of conveyance types used to cross the US-Canada border in 2012 (p = 0). We can reject the null hypothesis."
   ]
  },
  {
   "cell_type": "code",
   "execution_count": 0,
   "metadata": {
    "colab": {
     "base_uri": "https://localhost:8080/",
     "height": 173
    },
    "colab_type": "code",
    "id": "-WQZHVZjzWYq",
    "outputId": "f7ff049c-65ea-4cc5-d436-c9afbab2684b"
   },
   "outputs": [
    {
     "data": {
      "text/html": [
       "<div>\n",
       "<style scoped>\n",
       "    .dataframe tbody tr th:only-of-type {\n",
       "        vertical-align: middle;\n",
       "    }\n",
       "\n",
       "    .dataframe tbody tr th {\n",
       "        vertical-align: top;\n",
       "    }\n",
       "\n",
       "    .dataframe thead th {\n",
       "        text-align: right;\n",
       "    }\n",
       "</style>\n",
       "<table border=\"1\" class=\"dataframe\">\n",
       "  <thead>\n",
       "    <tr style=\"text-align: right;\">\n",
       "      <th></th>\n",
       "      <th>1</th>\n",
       "      <th>2</th>\n",
       "      <th>3</th>\n",
       "      <th>4</th>\n",
       "    </tr>\n",
       "  </thead>\n",
       "  <tbody>\n",
       "    <tr>\n",
       "      <th>1</th>\n",
       "      <td>-1.000000e+00</td>\n",
       "      <td>3.662336e-19</td>\n",
       "      <td>6.430474e-28</td>\n",
       "      <td>4.827697e-200</td>\n",
       "    </tr>\n",
       "    <tr>\n",
       "      <th>2</th>\n",
       "      <td>3.662336e-19</td>\n",
       "      <td>-1.000000e+00</td>\n",
       "      <td>4.482867e-02</td>\n",
       "      <td>0.000000e+00</td>\n",
       "    </tr>\n",
       "    <tr>\n",
       "      <th>3</th>\n",
       "      <td>6.430474e-28</td>\n",
       "      <td>4.482867e-02</td>\n",
       "      <td>-1.000000e+00</td>\n",
       "      <td>0.000000e+00</td>\n",
       "    </tr>\n",
       "    <tr>\n",
       "      <th>4</th>\n",
       "      <td>4.827697e-200</td>\n",
       "      <td>0.000000e+00</td>\n",
       "      <td>0.000000e+00</td>\n",
       "      <td>-1.000000e+00</td>\n",
       "    </tr>\n",
       "  </tbody>\n",
       "</table>\n",
       "</div>"
      ],
      "text/plain": [
       "               1             2             3              4\n",
       "1  -1.000000e+00  3.662336e-19  6.430474e-28  4.827697e-200\n",
       "2   3.662336e-19 -1.000000e+00  4.482867e-02   0.000000e+00\n",
       "3   6.430474e-28  4.482867e-02 -1.000000e+00   0.000000e+00\n",
       "4  4.827697e-200  0.000000e+00  0.000000e+00  -1.000000e+00"
      ]
     },
     "execution_count": 89,
     "metadata": {
      "tags": []
     },
     "output_type": "execute_result"
    }
   ],
   "source": [
    "#Now using Dunn's test to see which stand out:\n",
    "dunn_can_2012 = [\n",
    "    can_2012_bus['value'],\n",
    "    can_2012_peds['value'],\n",
    "    can_2012_train['value'],\n",
    "    can_2012_pvp['value']\n",
    "]\n",
    "sp.posthoc_dunn(dunn_can_2012)"
   ]
  },
  {
   "cell_type": "markdown",
   "metadata": {
    "colab_type": "text",
    "id": "VkFj6m_d4KGo"
   },
   "source": [
    "The medians of all conveyance types coming from Canada in 2012 are significantly different from each other. We can reject the null hypothesis."
   ]
  },
  {
   "cell_type": "code",
   "execution_count": 0,
   "metadata": {
    "colab": {
     "base_uri": "https://localhost:8080/",
     "height": 34
    },
    "colab_type": "code",
    "id": "3Ous409i4QXg",
    "outputId": "260d116a-b6d0-4c2d-fbda-5ade12d4f980"
   },
   "outputs": [
    {
     "data": {
      "text/plain": [
       "KruskalResult(statistic=1092.6853823896095, pvalue=1.4059456292647262e-236)"
      ]
     },
     "execution_count": 90,
     "metadata": {
      "tags": []
     },
     "output_type": "execute_result"
    }
   ],
   "source": [
    "#Now testing differences between conveyance types coming from Canada in 2018:\n",
    "stats.kruskal(\n",
    "    can_2018_bus['value'],\n",
    "    can_2018_peds['value'],\n",
    "    can_2018_train['value'],\n",
    "    can_2018_pvp['value']\n",
    ")"
   ]
  },
  {
   "cell_type": "markdown",
   "metadata": {
    "colab_type": "text",
    "id": "P2O4UNdK4g3P"
   },
   "source": [
    "There is a significant difference between the medians of conveyance types used to cross the US-Canada border in 2018 (p = 0). We can reject the null hypothesis."
   ]
  },
  {
   "cell_type": "code",
   "execution_count": 0,
   "metadata": {
    "colab": {
     "base_uri": "https://localhost:8080/",
     "height": 173
    },
    "colab_type": "code",
    "id": "J073MLmM4iOv",
    "outputId": "b8a76bef-7d71-4f56-a71a-bc24bb8cf7da"
   },
   "outputs": [
    {
     "data": {
      "text/html": [
       "<div>\n",
       "<style scoped>\n",
       "    .dataframe tbody tr th:only-of-type {\n",
       "        vertical-align: middle;\n",
       "    }\n",
       "\n",
       "    .dataframe tbody tr th {\n",
       "        vertical-align: top;\n",
       "    }\n",
       "\n",
       "    .dataframe thead th {\n",
       "        text-align: right;\n",
       "    }\n",
       "</style>\n",
       "<table border=\"1\" class=\"dataframe\">\n",
       "  <thead>\n",
       "    <tr style=\"text-align: right;\">\n",
       "      <th></th>\n",
       "      <th>1</th>\n",
       "      <th>2</th>\n",
       "      <th>3</th>\n",
       "      <th>4</th>\n",
       "    </tr>\n",
       "  </thead>\n",
       "  <tbody>\n",
       "    <tr>\n",
       "      <th>1</th>\n",
       "      <td>-1.000000e+00</td>\n",
       "      <td>1.169371e-19</td>\n",
       "      <td>2.124598e-05</td>\n",
       "      <td>6.553631e-92</td>\n",
       "    </tr>\n",
       "    <tr>\n",
       "      <th>2</th>\n",
       "      <td>1.169371e-19</td>\n",
       "      <td>-1.000000e+00</td>\n",
       "      <td>1.794536e-04</td>\n",
       "      <td>1.012014e-175</td>\n",
       "    </tr>\n",
       "    <tr>\n",
       "      <th>3</th>\n",
       "      <td>2.124598e-05</td>\n",
       "      <td>1.794536e-04</td>\n",
       "      <td>-1.000000e+00</td>\n",
       "      <td>6.909685e-96</td>\n",
       "    </tr>\n",
       "    <tr>\n",
       "      <th>4</th>\n",
       "      <td>6.553631e-92</td>\n",
       "      <td>1.012014e-175</td>\n",
       "      <td>6.909685e-96</td>\n",
       "      <td>-1.000000e+00</td>\n",
       "    </tr>\n",
       "  </tbody>\n",
       "</table>\n",
       "</div>"
      ],
      "text/plain": [
       "              1              2             3              4\n",
       "1 -1.000000e+00   1.169371e-19  2.124598e-05   6.553631e-92\n",
       "2  1.169371e-19  -1.000000e+00  1.794536e-04  1.012014e-175\n",
       "3  2.124598e-05   1.794536e-04 -1.000000e+00   6.909685e-96\n",
       "4  6.553631e-92  1.012014e-175  6.909685e-96  -1.000000e+00"
      ]
     },
     "execution_count": 91,
     "metadata": {
      "tags": []
     },
     "output_type": "execute_result"
    }
   ],
   "source": [
    "#Now we'll use the posthoc Dunn to see which conveyances types stand out:\n",
    "dunn_can_2018 = [\n",
    "    can_2018_bus['value'],\n",
    "    can_2018_peds['value'],\n",
    "    can_2018_train['value'],\n",
    "    can_2018_pvp['value']        \n",
    "]\n",
    "sp.posthoc_dunn(dunn_can_2018)"
   ]
  },
  {
   "cell_type": "markdown",
   "metadata": {
    "colab_type": "text",
    "id": "zkJSehpa4zFs"
   },
   "source": [
    "The medians of all conveyance types coming into the US from Canada in 2018 are significantly different from each other. We can reject the null hypothesis."
   ]
  },
  {
   "cell_type": "markdown",
   "metadata": {
    "colab_type": "text",
    "id": "6ri-kwge0QHs"
   },
   "source": [
    "Now we need to determine if there are any significant differences between Mexico and Canada, for both 2012 and 2018. \n",
    "\n",
    "**Hypothesis 4:**\n",
    "\n",
    "Ho: There is no significant difference in inbound US border crossings between the US-Mexico and US-Canada borders.\n",
    "\n",
    "Ha: There is a significant difference in inbound US border crossings between the US-Mexico and US-Canada borders."
   ]
  },
  {
   "cell_type": "code",
   "execution_count": 0,
   "metadata": {
    "colab": {
     "base_uri": "https://localhost:8080/",
     "height": 34
    },
    "colab_type": "code",
    "id": "CoHSopcv0usM",
    "outputId": "321cf01c-be79-43b3-f4ad-5ab6582f3499"
   },
   "outputs": [
    {
     "data": {
      "text/plain": [
       "MannwhitneyuResult(statistic=1547258.5, pvalue=2.5258241970696723e-90)"
      ]
     },
     "execution_count": 92,
     "metadata": {
      "tags": []
     },
     "output_type": "execute_result"
    }
   ],
   "source": [
    "#First, a Mann Whitney U between Canadian and Mexican borders in 2012:\n",
    "stats.mannwhitneyu(mexico_2012['value'], canada_2012['value'])"
   ]
  },
  {
   "cell_type": "code",
   "execution_count": 0,
   "metadata": {
    "colab": {
     "base_uri": "https://localhost:8080/",
     "height": 357
    },
    "colab_type": "code",
    "id": "sI-JwPt3dEqu",
    "outputId": "7300ea55-e4b6-41af-998b-46ed146dda1b"
   },
   "outputs": [
    {
     "name": "stdout",
     "output_type": "stream",
     "text": [
      "Dataframe 1 Aggregated Stats:\n",
      "col_sum    1.590612e+08\n",
      "median     7.053000e+03\n",
      "std        2.746705e+05\n",
      "Name: value, dtype: float64\n",
      "\n",
      "\n",
      "Dataframe 2 Aggregated Stats:\n",
      "col_sum    6.513770e+07\n",
      "median     2.500000e+01\n",
      "std        8.598197e+04\n",
      "Name: value, dtype: float64\n",
      "Difference between Medians: \n",
      "7028.0\n",
      "Difference between Standard Deviations: \n",
      "188584.5980955729\n",
      "Difference between Sums: \n",
      "93923477\n",
      "95% Confidence Interval: \n",
      "[[7066.139518958874], [6989.860481041126]]\n"
     ]
    }
   ],
   "source": [
    "#95% CI for median difference between Canadian & Mexican borders in 2012:\n",
    "print(ci95_mwu(mexico_2012['value'], canada_2012['value']))"
   ]
  },
  {
   "cell_type": "markdown",
   "metadata": {
    "colab_type": "text",
    "id": "QXZADKjn631e"
   },
   "source": [
    "There is a significant difference betweeen the median amount of crossings at the US-Mexico and US-Canada borders in 2012 (p < .001). We can reject the null hypothesis.\n",
    "\n",
    "At the 95% confidence level, the difference between medians falls between 7066 and 6990.\n",
    "\n",
    "That is, the median amount of crossings at the US-Mexico border in 2012 is between 7066 to 6990 crossings higher than at the US-Canada border in 2012."
   ]
  },
  {
   "cell_type": "code",
   "execution_count": 0,
   "metadata": {
    "colab": {
     "base_uri": "https://localhost:8080/",
     "height": 295
    },
    "colab_type": "code",
    "id": "7cXksUhD0wGo",
    "outputId": "6c0dd49c-17df-4c45-98c0-66b4d1c07dc6"
   },
   "outputs": [
    {
     "data": {
      "image/png": "[encoded data removed]",
      "text/plain": [
       "<Figure size 432x288 with 1 Axes>"
      ]
     },
     "metadata": {
      "tags": []
     },
     "output_type": "display_data"
    }
   ],
   "source": [
    "#Let's plot the difference between frequencies at each border, grouping by month of the year:\n",
    "lineplot = people_crossing[(people_crossing.border == 'US-Mexico Border') & (people_crossing.year == 2012)][\n",
    "    ['month', 'value']].groupby('month').mean().plot()\n",
    "people_crossing[(people_crossing.border == 'US-Canada Border') & (people_crossing.year == 2012)][\n",
    "    ['month', 'value']].groupby('month').mean().plot(ax=lineplot)\n",
    "plt.legend(['Mexico', 'Canada'])\n",
    "plt.title('Comparing Inbound Border Crossings at US-Mexico Borders and US-Canada Borders in 2012 by Month')\n",
    "plt.show()   "
   ]
  },
  {
   "cell_type": "code",
   "execution_count": 0,
   "metadata": {
    "colab": {
     "base_uri": "https://localhost:8080/",
     "height": 329
    },
    "colab_type": "code",
    "id": "UY6LZ8uX1Jj3",
    "outputId": "3b60ff1d-17db-42d3-ad61-0491f8b6ccad"
   },
   "outputs": [
    {
     "data": {
      "image/png": "[encoded data removed]",
      "text/plain": [
       "<Figure size 432x288 with 1 Axes>"
      ]
     },
     "metadata": {
      "tags": []
     },
     "output_type": "display_data"
    },
    {
     "name": "stdout",
     "output_type": "stream",
     "text": [
      "25.0\n",
      "7053.0\n"
     ]
    }
   ],
   "source": [
    "#And here, we'll plot it again using medians, since 'value' is non-normally distributed & highly skewed:\n",
    "lineplot1 = people_crossing[(people_crossing.border == 'US-Mexico Border') & (people_crossing.year == 2012)][\n",
    "    ['month', 'value']].groupby('month').median().plot()\n",
    "people_crossing[(people_crossing.border == 'US-Canada Border') & (people_crossing.year == 2012)][\n",
    "    ['month', 'value']].groupby('month').median().plot(ax=lineplot1)\n",
    "plt.legend(['Mexico', 'Canada'])\n",
    "plt.title('Comparing Inbound Border Crossings at US-Mexico Borders and US-Canada Borders in 2012 by Month')\n",
    "plt.show()                \n",
    "#Canada's median number of crossings for 2012 is in fact only 25:\n",
    "print(canada_2012.value.median())\n",
    "print(mexico_2012.value.median())"
   ]
  },
  {
   "cell_type": "code",
   "execution_count": 0,
   "metadata": {
    "colab": {
     "base_uri": "https://localhost:8080/",
     "height": 34
    },
    "colab_type": "code",
    "id": "cn2d5R421PXb",
    "outputId": "d57af4de-a6e9-4e6c-abeb-ca06cd886b19"
   },
   "outputs": [
    {
     "data": {
      "text/plain": [
       "MannwhitneyuResult(statistic=391910.5, pvalue=1.8609690957587394e-139)"
      ]
     },
     "execution_count": 96,
     "metadata": {
      "tags": []
     },
     "output_type": "execute_result"
    }
   ],
   "source": [
    "#Now we'll test Canada's and Mexico's crossings in 2018:\n",
    "stats.mannwhitneyu(mexico_2018['value'], canada_2018['value'])"
   ]
  },
  {
   "cell_type": "code",
   "execution_count": 0,
   "metadata": {
    "colab": {
     "base_uri": "https://localhost:8080/",
     "height": 357
    },
    "colab_type": "code",
    "id": "Gyp-NMCphsKI",
    "outputId": "1d0832c2-1b67-4855-d8e3-1990cbe5041f"
   },
   "outputs": [
    {
     "name": "stdout",
     "output_type": "stream",
     "text": [
      "Dataframe 1 Aggregated Stats:\n",
      "col_sum    1.929137e+08\n",
      "median     6.342400e+04\n",
      "std        3.919661e+05\n",
      "Name: value, dtype: float64\n",
      "\n",
      "\n",
      "Dataframe 2 Aggregated Stats:\n",
      "col_sum    5.403224e+07\n",
      "median     9.760000e+02\n",
      "std        9.920656e+04\n",
      "Name: value, dtype: float64\n",
      "Difference between Medians: \n",
      "62448.0\n",
      "Difference between Standard Deviations: \n",
      "292555.40835741325\n",
      "Difference between Sums: \n",
      "138881446\n",
      "95% Confidence Interval: \n",
      "[[62496.65663690923], [62399.34336309077]]\n"
     ]
    }
   ],
   "source": [
    "#95% CI for US-Mexico border in 2018 vs. US-Canada border in 2018:\n",
    "print(ci95_mwu(mexico_2018['value'], canada_2018['value']))"
   ]
  },
  {
   "cell_type": "markdown",
   "metadata": {
    "colab_type": "text",
    "id": "lm346hWq7Pyp"
   },
   "source": [
    "There is a significant difference between the median amount of crossings at the US-Mexico and US-Canada borders in 2018 (p < .001). We can reject the null hypothesis again.\n",
    "\n",
    "At the 95% confidence level, the difference between medians falls between 62,497 and 62,399.\n",
    "\n",
    "That is, the median amount of crossings at the US-Mexico border in 2018 was between 62,497 and 62,399 crossings **higher** than at the US-Canada border in that same year."
   ]
  },
  {
   "cell_type": "code",
   "execution_count": 0,
   "metadata": {
    "colab": {
     "base_uri": "https://localhost:8080/",
     "height": 295
    },
    "colab_type": "code",
    "id": "jIGp884y1Wd-",
    "outputId": "9897ee91-541e-4252-9bbb-226b690a2948"
   },
   "outputs": [
    {
     "data": {
      "image/png": "[encoded data removed]",
      "text/plain": [
       "<Figure size 432x288 with 1 Axes>"
      ]
     },
     "metadata": {
      "tags": []
     },
     "output_type": "display_data"
    }
   ],
   "source": [
    "#We'll plot the means now for each border in 2018, by month:\n",
    "lineplot2 = people_crossing[(people_crossing.border == 'US-Mexico Border') & (people_crossing.year == 2018)][\n",
    "    ['month', 'value']].groupby('month').mean().plot()\n",
    "people_crossing[(people_crossing.border == 'US-Canada Border') & (people_crossing.year == 2018)][\n",
    "    ['month', 'value']].groupby('month').mean().plot(ax=lineplot2)\n",
    "plt.legend(['Mexico', 'Canada'])\n",
    "plt.title('Comparing Inbound Border Crossings at US-Mexico Borders and US-Canada Borders in 2018 by Month')\n",
    "plt.show()   \n",
    "#So there are only 3 months here, because this dataset stops in March."
   ]
  },
  {
   "cell_type": "code",
   "execution_count": 0,
   "metadata": {
    "colab": {
     "base_uri": "https://localhost:8080/",
     "height": 329
    },
    "colab_type": "code",
    "id": "ukSmFrHV1djr",
    "outputId": "f40800c3-df81-4f8b-843a-5dce501b16ac"
   },
   "outputs": [
    {
     "data": {
      "image/png": "[encoded data removed]",
      "text/plain": [
       "<Figure size 432x288 with 1 Axes>"
      ]
     },
     "metadata": {
      "tags": []
     },
     "output_type": "display_data"
    },
    {
     "name": "stdout",
     "output_type": "stream",
     "text": [
      "976.0\n",
      "63424.0\n"
     ]
    }
   ],
   "source": [
    "#Now again, with medians:\n",
    "lineplot3 = people_crossing[(people_crossing.border == 'US-Mexico Border') & (people_crossing.year == 2018)][\n",
    "    ['month', 'value']].groupby('month').median().plot()\n",
    "people_crossing[(people_crossing.border == 'US-Canada Border') & (people_crossing.year == 2018)][\n",
    "    ['month', 'value']].groupby('month').median().plot(ax=lineplot3)\n",
    "plt.legend(['Mexico', 'Canada'])\n",
    "plt.title('Comparing Inbound Border Crossings at US-Mexico Borders and US-Canada Borders in 2018 by Month')\n",
    "plt.show()  \n",
    "print(canada_2018.value.median())\n",
    "print(mexico_2018.value.median())\n",
    "#Again, Mexico's amount of crossings was far higher. \n",
    "#However, it's also noteworthy that Canada's median is a lot higher than it was in 2012."
   ]
  },
  {
   "cell_type": "markdown",
   "metadata": {
    "colab_type": "text",
    "id": "dmrEqpbl7_yy"
   },
   "source": [
    "It's clear from the above visualizations of the border crossing rate by month that the US-Mexico border sees far more crossings on average than does the US-Canada border, no matter which month of the year it is."
   ]
  },
  {
   "cell_type": "markdown",
   "metadata": {
    "colab_type": "text",
    "id": "BzVCJjqoFJSo"
   },
   "source": [
    "#C. Results\n",
    "\n",
    "**Hypothesis 1**\n",
    "\n",
    "To recap the statistical tests conducted, I first found that the 'value' variable - i.e., the numerical amount of border crossings - in this dataset is non-normally distributed. For this reason, I used a Mann Whitney U test to determine that there was a significant difference between the medians of overall inbound US border crossings from 2012 to 2018 (Hypothesis 1). Based on a p-value < .001, the null hypothesis was rejected.\n",
    " \n",
    "\n",
    "From there, I used Mann Whitney U tests to check for differences between each of the conveyance types from 2012 to 2018. Based on a p-value < .001, there was a significant difference between the median amounts of bus crossings from 2012 to 2018. Based on a p-value < .001, there was a significant difference between the median amounts of pedestrian crossings from 2012 to 2018. Based on a p-value < .001, there was a significant difference between median amounts of train crossings from 2012 to 2018. The null hypothesis was rejected in each of these three tests. However, based on a p-value of 0.16, there was not a significant difference between the median amounts of personal vehicle crossings from 2012 to 2018. The null hypothesis here failed to be rejected.\n",
    " \n",
    "\n",
    "Next, I tested for differences between the median amounts of crossings into each border state in the dataset, from 2012 to 2018, using Mann Whitney U tests again, as all data was non-normal. \n",
    "\n",
    "Briefly, the results of these tests were as follows:\n",
    "\n",
    "Alaska: Rejected null hypothesis (p < .001)\n",
    "\n",
    "\n",
    "Arizona: Rejected null hypothesis (p < .001)\n",
    "\n",
    "\n",
    "California: Rejected null hypothesis (p < .001)\n",
    "\n",
    "\n",
    "Idaho: Failed to reject null hypothesis (p = .237)\n",
    "\n",
    "\n",
    "Maine: Rejected null hypothesis (p < .001)\n",
    "\n",
    "\n",
    "Michigan: Rejected null hypothesis (p < .05)\n",
    "\n",
    "\n",
    "Minnesota: Rejected null hypothesis (p < .001)\n",
    "\n",
    "\n",
    "Montana: Rejected null hypothesis (p < .001)\n",
    "\n",
    "\n",
    "New Mexico: Rejected null hypothesis (p < .001)\n",
    "\n",
    "\n",
    "New York: Rejected null hypothesis (p < .001)\n",
    "\n",
    "\n",
    "North Dakota: Rejected null hypothesis (p < .001)\n",
    "\n",
    "\n",
    "Texas: Rejected null hypothesis (p < .001)\n",
    "\n",
    "\n",
    "Vermont: Rejected null hypothesis (p < .001)\n",
    "\n",
    "\n",
    "Washington: Rejected null hypothesis (p < .001)\n",
    "\n",
    "\n",
    "The median amounts of crossings for all border states except Idaho were significantly different from 2012 to 2018. Moreover, upon looking at the total number of crossings (using value.sum()) for each state in 2012 and again in 2018, it became evident that every state that borders Mexico experienced an increase in border crossings from 2012 to 2018, while every state in the dataset that borders Canada saw a decrease in border crossings from 2012 to 2018. Even the state (Idaho) where no significant difference in medians was found between the two years, the raw number of people who crossed the US-Canada border there was still lower in 2018 than it was in 2012.\n",
    "\n",
    "\n",
    "**Hypothesis 2**\n",
    "\n",
    "Regarding Hypothesis 2, I used a Mann Whitney U test to determine that there was a significant difference between Mexico’s median number of border crossings into the US from 2012 to 2018 (p < .001). The null hypothesis was rejected here.\n",
    " \n",
    "Then I looked for potential differences between types of conveyances used to cross the US-Mexico border in 2012 and in 2018. Rather than conducting tests on significant differences between conveyance types from 2012 to 2018 a second time, I decided to look within 2012 and within 2018 to see if any conveyance types were significantly different from each other, in each year. First, I used the Kruskal-Wallis test as an ANOVA for the 2012 conveyances and, based on a p-value < .001, found that there was at least one significant difference between the medians. The null hypothesis was rejected. Upon completing a post-hoc Dunn’s test, I found that the medians of each type of conveyance used were all significantly different from each other (p < .001 in all cases.)\n",
    " \n",
    "I used the same protocol for conveyances used in 2018 at the US-Mexico border and found, based on a p-value < .001, that there was at least one significant difference between the median amounts of conveyance types used in 2018. The null hypothesis was rejected. When I ran the post-hoc Dunn’s test, I found once again that the medians of each type of conveyance were all significantly difference from each other (p < .001 in all cases).\n",
    " \n",
    "**Hypothesis 3**\n",
    "\n",
    "I followed the same plan for testing for significant differences within the data that came solely from the US-Canada border – Hypothesis 3. First, through a Mann Whitney U test, I found that there was a significant difference between US-Canada border crossings from 2012 to 2018 (p < .001). Then, upon using Dunn's test to look at each type of conveyance used to cross the US-Canada border, I encountered much the same results as I did with Mexico’s conveyances – in 2012, the medians of each type of conveyance were all significantly different from each other (p < .001 in all cases except for that between pedestrians and train passengers, where p < .05). Similarly, in 2018, the medians of each type of conveyance were all significantly different from each other (p < .001 in all comparisons). The null hypothesis was rejected for each of the above tests.\n",
    "\n",
    "**Hypothesis 4**\n",
    "\n",
    "Finally, regarding Hypothesis 4, I tested for differences between the US-Mexico border and the US-Canada border. I used a Mann Whitney U test to determine that there was a significant difference between the amount of crossings at the US-Mexico border vs. at the US-Canada border in 2012 (p < .001). Similarly, I used a Mann Whitney U test to determine that there was a significant difference between the amount of crossings at the US-Mexico border vs. at the US-Canada border in 2018 (p < .001). The null hypothesis was rejected in both of these tests.\n",
    " \n",
    "Upon plotting the frequencies of crossings at each border (by month of the year), it was evident that, no matter the month, the US-Mexico border had a far greater amount of border crossings than the US-Canada border. In fact, Canada’s median amount of crossings in both 2012 and 2018 was less than 1,000, while Mexico’s was 7,053 in 2012 and 63,424 in 2018.\n",
    " "
   ]
  },
  {
   "cell_type": "markdown",
   "metadata": {
    "colab_type": "text",
    "id": "OPP2n__viCN7"
   },
   "source": [
    "#D. Discussion & Recommendations\n",
    "\n",
    "**Discussion**\n",
    "\n",
    "A few interesting findings came out of this analysis.\n",
    "\n",
    "**1. There was a massive increase in the median amount of inbound border crossings at the US-Mexican border from 2012 to 2018.**\n",
    "\n",
    "More research is needed to figure out what may have caused this dramatic increase in crossings. (We must keep in mind that this dataset represents only ***legal*** crossings into the US. Unauthorized crossings are at an all-time [high](https://www.pewresearch.org/fact-tank/2019/11/01/whats-happening-at-the-u-s-mexico-border-in-5-charts/) for the decade as well.) \n",
    "\n",
    "Perhaps this phenomenon is a response to the perceived tightening of regulations and surveillance at the US-Mexico border, as travelers and immigrants alike try to enter the US before it becomes even more difficult.\n",
    "\n",
    "However, other factors may be at play, which we can't see from this dataset alone. As a next step, it may be useful to look at other border crossings datasets, which may have more variables that could be analyzed.\n",
    "\n",
    "**2. There was a substantial decrease in the median amount of inbound border crossings at the US-Canada border from 2012 to 2018.**\n",
    "\n",
    "It's interesting that the US-Canada border is experiencing the opposite phenomenon as the US-Mexico border. Again, perhaps this could be explained by the Trump administration's [unfriendly](https://www.thestar.com/news/world/2018/06/26/justin-whats-your-problem-justin-trump-complains-about-trudeau-and-canada-threatens-auto-tariff.html) rhetoric and/or what many see as dangerous conditions (the prevalence of shootings, hate crimes, etc.). These circumstances could make Canadians more wary of visiting the US; however, more research is needed to make any sort of determination about reason for the decrease in US border crossings from Canada.\n",
    "\n",
    "The key difference here between the Mexican and Canadian borders is that Mexico can be classified as a [developing country](http://worldpopulationreview.com/countries/developing-countries/), while Canada is classified as a developed country. For Canadians, visiting the US may be thought of as a leisure activity, and few people (less than [2%](https://www.migrationpolicy.org/article/canadian-immigrants-united-states) of immigrants to the US) immigrate from Canada to the US. On the other hand, immigrants from Mexico amount to about [25%](https://www.pewresearch.org/fact-tank/2019/06/17/key-findings-about-u-s-immigrants/) of all immigrants to the US. People from Mexico may visit the US for leisure purposes less often than Canadians, and they may see emigration as a way to increase their [standard of living](https://www.jstor.org/stable/10.7249/mg985rc.15?seq=1#metadata_info_tab_contents) or have the potential to earn more money. These differences between Canada and Mexico may contribute to the opposite responses these countries seem to be having with regard to social upheaval in the US, but without more research and more informative datasets, this is supposition. \n",
    "\n",
    "**3. Significantly more border crossings take place at the US-Mexico border than the US-Canada border.**\n",
    "\n",
    "Regarding this point, we must take into account that Canada is the only country north of the US, while Mexico is *not* the only country south of the US. Thousands of people immigrate to the US - by way of the US-Mexico border - from Central American countries such as Guatemala or Nicaragua, many of which are also classified as developing countries. \n",
    "\n",
    "Furthermore, Canada's population is relatively small (roughly 37.6 million as of 2019), while Mexico has a greater population (about 125.3 million in 2018).\n",
    "\n",
    "Both of these facts could certainly contribute to the much greater rate of border crossings at the US-Mexico border.\n",
    "\n",
    "**4. Border crossings - from both Canada and Mexico - in personal vehicles are significantly more numerous than crossings in other types of conveyances (bus, train, and on foot).**\n",
    "\n",
    "This is a more simple finding, but it tells us how the majority of people choose to cross US borders.\n",
    "\n",
    "**Recommendations**\n",
    "\n",
    "1. Find and analyze other datasets to gain more information about US border crossings. Perhaps there are datasets that include information about the number of people crossing together, group composition (family group, friend group, etc.), or the reason for border crossings (immigration, work-related, tourism, etc.).\n",
    "\n",
    "2. Another next step might be for some independent person or institution (perhaps university-affiliated sociologists, for example) to conduct a large-scale research project on reasons for crossing US borders. More qualitative information may be necessary to determine why crossings from Canada and Mexico look so different from each other, as well as if/how current US politics have affected US border crossing. "
   ]
  }
 ],
 "metadata": {
  "colab": {
   "collapsed_sections": [],
   "name": "Capstone 1 - US Border Crossings.ipynb",
   "provenance": []
  },
  "kernelspec": {
   "display_name": "Python 3",
   "language": "python",
   "name": "python3"
  },
  "language_info": {
   "codemirror_mode": {
    "name": "ipython",
    "version": 3
   },
   "file_extension": ".py",
   "mimetype": "text/x-python",
   "name": "python",
   "nbconvert_exporter": "python",
   "pygments_lexer": "ipython3",
   "version": "3.7.4"
  }
 },
 "nbformat": 4,
 "nbformat_minor": 1
}
